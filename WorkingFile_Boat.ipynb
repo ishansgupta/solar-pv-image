{
 "cells": [
  {
   "cell_type": "code",
   "execution_count": 1,
   "metadata": {},
   "outputs": [],
   "source": [
    "'''\n",
    "Import the packages needed for classification\n",
    "'''\n",
    "import numpy as np\n",
    "import matplotlib.pyplot as plt\n",
    "import matplotlib as mpl\n",
    "import pandas as pd\n",
    "from sklearn.model_selection import StratifiedKFold\n",
    "from sklearn.neighbors import KNeighborsClassifier\n",
    "import sklearn.metrics as metrics\n",
    "import PIL\n",
    "plt.close()"
   ]
  },
  {
   "cell_type": "code",
   "execution_count": 2,
   "metadata": {},
   "outputs": [],
   "source": [
    "'''\n",
    "Set directory parameters\n",
    "'''\n",
    "# Set the directories for the data and the CSV files that contain ids/labels\n",
    "dir_train_images  = './data/training/'\n",
    "dir_test_images   = './data/testing/'\n",
    "dir_train_labels  = './data/labels_training.csv'\n",
    "dir_test_ids      = './data/sample_submission.csv'"
   ]
  },
  {
   "cell_type": "code",
   "execution_count": 3,
   "metadata": {},
   "outputs": [],
   "source": [
    "'''\n",
    "Include the functions used for loading, preprocessing, features extraction, \n",
    "classification, and performance evaluation\n",
    "'''\n",
    "\n",
    "def load_data(dir_data, dir_labels, training=True):\n",
    "    ''' Load each of the image files into memory \n",
    "\n",
    "    While this is feasible with a smaller dataset, for larger datasets,\n",
    "    not all the images would be able to be loaded into memory\n",
    "\n",
    "    When training=True, the labels are also loaded\n",
    "    '''\n",
    "    labels_pd = pd.read_csv(dir_labels)\n",
    "    ids       = labels_pd.id.values\n",
    "    data      = []\n",
    "    for identifier in ids:\n",
    "        fname     = dir_data + identifier.astype(str) + '.tif'\n",
    "        image     = mpl.image.imread(fname)\n",
    "        data.append(image)\n",
    "    data = np.array(data) # Convert to Numpy array\n",
    "    if training:\n",
    "        labels = labels_pd.label.values\n",
    "        return data, labels\n",
    "    else:\n",
    "        return data, ids\n",
    "\n",
    "\n",
    "def cv_performance_assessment(X,y,k,clf):\n",
    "    '''Cross validated performance assessment\n",
    "    \n",
    "    X   = training data\n",
    "    y   = training labels\n",
    "    k   = number of folds for cross validation\n",
    "    clf = classifier to use\n",
    "    \n",
    "    Divide the training data into k folds of training and validation data. \n",
    "    For each fold the classifier will be trained on the training data and\n",
    "    tested on the validation data. The classifier prediction scores are \n",
    "    aggregated and output\n",
    "    '''\n",
    "    # Establish the k folds\n",
    "    prediction_scores = np.empty(y.shape[0],dtype='object')\n",
    "    kf = StratifiedKFold(n_splits=k, shuffle=True)\n",
    "    for train_index, val_index in kf.split(X, y):\n",
    "        # Extract the training and validation data for this fold\n",
    "        X_train, X_val   = X[train_index], X[val_index]\n",
    "        y_train          = y[train_index]\n",
    "        \n",
    "        # Train the classifier\n",
    "        X_train_features = preprocess_and_extract_features(X_train)\n",
    "        clf              = clf.fit(X_train_features,y_train)\n",
    "        \n",
    "        # Test the classifier on the validation data for this fold\n",
    "        X_val_features   = preprocess_and_extract_features(X_val)\n",
    "        cpred            = clf.predict_proba(X_val_features)\n",
    "        \n",
    "        # Save the predictions for this fold\n",
    "        prediction_scores[val_index] = cpred[:,1]\n",
    "    return prediction_scores\n",
    "\n",
    "def plot_roc(labels, prediction_scores):\n",
    "    fpr, tpr, _ = metrics.roc_curve(labels, prediction_scores, pos_label=1)\n",
    "    auc = metrics.roc_auc_score(labels, prediction_scores)\n",
    "    legend_string = 'AUC = {:0.3f}'.format(auc)\n",
    "   \n",
    "    plt.plot([0,1],[0,1],'--', color='gray', label='Chance')\n",
    "    plt.plot(fpr, tpr, label=legend_string)\n",
    "    plt.xlabel('False Positive Rate')\n",
    "    plt.ylabel('True Positive Rate')\n",
    "    plt.grid('on')\n",
    "    plt.axis('square')\n",
    "    plt.legend()\n",
    "    plt.tight_layout()\n"
   ]
  },
  {
   "cell_type": "code",
   "execution_count": 4,
   "metadata": {},
   "outputs": [],
   "source": [
    "def preprocess_and_extract_features(data):\n",
    "    '''Preprocess data and extract features\n",
    "    \n",
    "    Preprocess: normalize, scale, repair\n",
    "    Extract features: transformations and dimensionality reduction\n",
    "    '''\n",
    "    \n",
    "    \n",
    "    return data\n"
   ]
  },
  {
   "cell_type": "code",
   "execution_count": 26,
   "metadata": {},
   "outputs": [],
   "source": [
    "from sklearn import svm\n",
    "def set_classifier():\n",
    "    '''Shared function to select the classifier for both performance evaluation\n",
    "    and testing\n",
    "    '''\n",
    "    svmClassifier = svm.SVC(kernel='rbf', degree = 3, probability=True, C=1, gamma='scale')\n",
    "    knn = KNeighborsClassifier(n_neighbors=20)\n",
    "    \n",
    "    return svmClassifier"
   ]
  },
  {
   "cell_type": "code",
   "execution_count": 28,
   "metadata": {},
   "outputs": [],
   "source": [
    "'''\n",
    "Load data\n",
    "'''\n",
    "# Set parameters for the analysis\n",
    "num_training_folds = 10\n",
    "\n",
    "# Load the data\n",
    "data, labels = load_data(dir_train_images, dir_train_labels, training=True)\n"
   ]
  },
  {
   "cell_type": "markdown",
   "metadata": {},
   "source": [
    "## My playground"
   ]
  },
  {
   "cell_type": "code",
   "execution_count": 35,
   "metadata": {},
   "outputs": [],
   "source": [
    "from sklearn import decomposition\n",
    "\n",
    "def preprocess_and_extract_features_PCA(data):\n",
    "    '''Preprocess data and extract features\n",
    "    \n",
    "    Preprocess: normalize, scale, repair\n",
    "    Extract features: transformations and dimensionality reduction\n",
    "    '''\n",
    "    # Here, we do something trivially simple: we take the average of the RGB\n",
    "    # values to produce a grey image, transform that into a vector, then\n",
    "    # extract the mean and standard deviation as features.\n",
    "    \n",
    "    # Make the image grayscale\n",
    "    #data = np.mean(data, axis=3)\n",
    "    \n",
    "    # Vectorize the grayscale matrices\n",
    "    vectorized_data = data.reshape(data.shape[0],-1)\n",
    "    \n",
    "    \n",
    "    return vectorized_data"
   ]
  },
  {
   "cell_type": "code",
   "execution_count": 120,
   "metadata": {},
   "outputs": [],
   "source": [
    "from sklearn import decomposition\n",
    "from sklearn.manifold import TSNE\n",
    "\n",
    "def preprocess_and_extract_features_TSNE(data, PCA_dimen, tSNE_dimen):\n",
    "    '''Preprocess data and extract features\n",
    "    \n",
    "    Preprocess: normalize, scale, repair\n",
    "    Extract features: transformations and dimensionality reduction\n",
    "    '''\n",
    "    # Reduce dimension by PCA first then do tSNE\n",
    "    \n",
    "    # Make the image grayscale\n",
    "    data = np.mean(data, axis=3)\n",
    "    \n",
    "    # Vectorize the grayscale matrices\n",
    "    vectorized_data = data.reshape(data.shape[0],-1)\n",
    "    \n",
    "    # Doing PCA on the data\n",
    "    pca = decomposition.PCA(n_components=PCA_dimen)\n",
    "    pca.fit(vectorized_data)\n",
    "    print(\"{} of Variance is explained by first {} dimensions\".format(sum(pca.explained_variance_ratio_), PCA_dimen))\n",
    "    features = pca.transform(vectorized_data)\n",
    "    features = TSNE(n_components = tSNE_dimen,perplexity=20,random_state=123).fit_transform(features)\n",
    "\n",
    "    return features"
   ]
  },
  {
   "cell_type": "markdown",
   "metadata": {},
   "source": [
    "## End of my playground"
   ]
  },
  {
   "cell_type": "code",
   "execution_count": 24,
   "metadata": {},
   "outputs": [
    {
     "name": "stdout",
     "output_type": "stream",
     "text": [
      "0.8514970418635396 of Variance is explained by first 250 dimensions\n"
     ]
    }
   ],
   "source": [
    "# Training\n",
    "data_pca = preprocess_and_extract_features_PCA(data, PCA_dimen = 250)\n",
    "\n"
   ]
  },
  {
   "cell_type": "code",
   "execution_count": 29,
   "metadata": {},
   "outputs": [
    {
     "data": {
      "image/png": "[encoded data removed]",
      "text/plain": [
       "<Figure size 432x288 with 1 Axes>"
      ]
     },
     "metadata": {
      "needs_background": "light"
     },
     "output_type": "display_data"
    }
   ],
   "source": [
    "# Choose which classifier to use\n",
    "clf = set_classifier()\n",
    "\n",
    "# Perform cross validated performance assessment\n",
    "prediction_scores = cv_performance_assessment(data_pca,labels,num_training_folds,clf)\n",
    "\n",
    "# Compute and plot the ROC curves\n",
    "plot_roc(labels, prediction_scores)"
   ]
  },
  {
   "cell_type": "code",
   "execution_count": 38,
   "metadata": {},
   "outputs": [
    {
     "name": "stdout",
     "output_type": "stream",
     "text": [
      "0.8515527130929474\n"
     ]
    }
   ],
   "source": [
    "'''\n",
    "Sample script for producing a Kaggle submission\n",
    "'''\n",
    "\n",
    "produce_submission = True # Switch this to True when you're ready to create a submission for Kaggle\n",
    "\n",
    "if produce_submission:\n",
    "    # Load data, extract features, and train the classifier on the training data\n",
    "    training_data, training_labels = load_data(dir_train_images, dir_train_labels, training=True)\n",
    "    training_features              = preprocess_and_extract_features_PCA(training_data)\n",
    "    # Doing PCA on the data\n",
    "    pca = decomposition.PCA(n_components=250)\n",
    "    pca.fit(training_features)\n",
    "    training_features = pca.transform(training_features)\n",
    "    print(sum(pca.explained_variance_ratio_))\n",
    "    clf                            = set_classifier()\n",
    "    clf.fit(training_features,training_labels)\n",
    "\n",
    "    # Load the test data and test the classifier\n",
    "    test_data, ids = load_data(dir_test_images, dir_test_ids, training=False)\n",
    "    test_features  = preprocess_and_extract_features_PCA(test_data)\n",
    "    test_features = pca.transform(test_features)\n",
    "    test_scores    = clf.predict_proba(test_features)[:,1]\n",
    "\n",
    "    # Save the predictions to a CSV file for upload to Kaggle\n",
    "    submission_file = pd.DataFrame({'id':    ids,\n",
    "                                   'score':  test_scores})\n",
    "    submission_file.to_csv('submission_PCA_SVM_3C.csv',\n",
    "                           columns=['id','score'],\n",
    "                           index=False)"
   ]
  },
  {
   "cell_type": "code",
   "execution_count": 31,
   "metadata": {},
   "outputs": [
    {
     "data": {
      "text/plain": [
       "array([0.24567833, 0.1468273 , 0.60638069, ..., 0.39492848, 0.15662055,\n",
       "       0.78240103])"
      ]
     },
     "execution_count": 31,
     "metadata": {},
     "output_type": "execute_result"
    }
   ],
   "source": [
    "clf.predict_proba(training_features)[:,1]"
   ]
  },
  {
   "cell_type": "code",
   "execution_count": 33,
   "metadata": {},
   "outputs": [
    {
     "data": {
      "text/plain": [
       "array([0, 0, 1, ..., 0, 0, 1])"
      ]
     },
     "execution_count": 33,
     "metadata": {},
     "output_type": "execute_result"
    }
   ],
   "source": [
    "training_labels"
   ]
  },
  {
   "cell_type": "code",
   "execution_count": 34,
   "metadata": {},
   "outputs": [
    {
     "data": {
      "text/plain": [
       "array([0.25035713, 0.26394972, 0.27720277, 0.36624498, 0.35901471,\n",
       "       0.31662154, 0.15739345, 0.21893525, 0.70646536, 0.36683855,\n",
       "       0.3788102 , 0.74143   , 0.13735949, 0.53479192, 0.20557114,\n",
       "       0.21024436, 0.32844968, 0.21407405, 0.11548737, 0.18013248,\n",
       "       0.43943794, 0.37109322, 0.47096621, 0.56791726, 0.28924246,\n",
       "       0.16146293, 0.23978933, 0.18697659, 0.18629129, 0.45606334,\n",
       "       0.23293661, 0.56231059, 0.1800669 , 0.34264674, 0.32207932,\n",
       "       0.18529128, 0.36693614, 0.21348228, 0.55387625, 0.60950677,\n",
       "       0.55249525, 0.82533338, 0.46376428, 0.17595297, 0.25935265,\n",
       "       0.57775813, 0.26558589, 0.65189274, 0.20575309, 0.27424667,\n",
       "       0.4912144 , 0.31903299, 0.46318611, 0.68816613, 0.55520913,\n",
       "       0.45618285, 0.20459793, 0.64550035, 0.43146711, 0.27563507,\n",
       "       0.2531911 , 0.12122729, 0.61067291, 0.22242324, 0.54002485,\n",
       "       0.13500406, 0.55163114, 0.21555941, 0.2918732 , 0.1052617 ,\n",
       "       0.2456285 , 0.30752229, 0.63123522, 0.2300237 , 0.18847028,\n",
       "       0.22526675, 0.25571022, 0.31185679, 0.22372934, 0.15271893,\n",
       "       0.39304603, 0.61604778, 0.3806608 , 0.51758066, 0.19501642,\n",
       "       0.67076479, 0.22893363, 0.24599233, 0.58683844, 0.16954769,\n",
       "       0.23015323, 0.39426854, 0.76670671, 0.42565852, 0.28176502,\n",
       "       0.13824975, 0.53735853, 0.23186116, 0.31012195, 0.43105859,\n",
       "       0.38493505, 0.40494155, 0.10393311, 0.44613325, 0.47746528,\n",
       "       0.25747421, 0.73519779, 0.08791907, 0.23304727, 0.18572976,\n",
       "       0.21499316, 0.22015167, 0.34410746, 0.13056139, 0.19717771,\n",
       "       0.6486662 , 0.20597083, 0.20135155, 0.62036493, 0.67764502,\n",
       "       0.83458169, 0.2254026 , 0.25025668, 0.2368419 , 0.14851691,\n",
       "       0.33337964, 0.29361655, 0.29553312, 0.51936891, 0.33680561,\n",
       "       0.16573898, 0.26752254, 0.82306703, 0.25460167, 0.19474169,\n",
       "       0.21336686, 0.4929707 , 0.12453141, 0.22333766, 0.29317798,\n",
       "       0.18719922, 0.33294739, 0.10336407, 0.33181818, 0.27799594,\n",
       "       0.31953773, 0.2741618 , 0.82544561, 0.64502224, 0.45935844,\n",
       "       0.48018758, 0.17446388, 0.54429149, 0.58306542, 0.30754607,\n",
       "       0.4169635 , 0.80634014, 0.47460927, 0.28094794, 0.90222701,\n",
       "       0.35036403, 0.67473575, 0.11885932, 0.25678328, 0.66268855,\n",
       "       0.16019199, 0.57550929, 0.5502484 , 0.10157882, 0.10782343,\n",
       "       0.24354491, 0.20151825, 0.31516265, 0.29475979, 0.33479258,\n",
       "       0.22241401, 0.32362762, 0.28292867, 0.45782922, 0.48683952,\n",
       "       0.44502736, 0.21713734, 0.35741414, 0.11058414, 0.25066051,\n",
       "       0.4048028 , 0.22860443, 0.44777275, 0.24289598, 0.74854357,\n",
       "       0.21109186, 0.54220431, 0.1576908 , 0.37960737, 0.4027494 ,\n",
       "       0.49363108, 0.35663985, 0.30813896, 0.45658324, 0.15970165,\n",
       "       0.14012456, 0.5       , 0.41028945, 0.33874668, 0.37924876,\n",
       "       0.34057854, 0.61391567, 0.27667716, 0.26542533, 0.25002667,\n",
       "       0.12531373, 0.37613927, 0.23620811, 0.24245955, 0.84081861,\n",
       "       0.10131999, 0.63531454, 0.29452156, 0.59599954, 0.29639547,\n",
       "       0.60395649, 0.53613105, 0.42129867, 0.26517761, 0.34446626,\n",
       "       0.26012553, 0.4370089 , 0.2594455 , 0.47849687, 0.41376443,\n",
       "       0.27836836, 0.3112272 , 0.14780948, 0.38185414, 0.3893707 ,\n",
       "       0.66792616, 0.43840837, 0.61126118, 0.29426673, 0.35447247,\n",
       "       0.25392802, 0.35493485, 0.30815911, 0.19307828, 0.18094679,\n",
       "       0.0990818 , 0.36223862, 0.05211352, 0.56066396, 0.27183975,\n",
       "       0.25774124, 0.238409  , 0.15134037, 0.47168853, 0.5869962 ,\n",
       "       0.21852349, 0.19616468, 0.42828978, 0.12910682, 0.46036268,\n",
       "       0.45266409, 0.70294753, 0.55544944, 0.17814532, 0.21916878,\n",
       "       0.22076454, 0.36131077, 0.63658605, 0.3603862 , 0.25683383,\n",
       "       0.40765225, 0.28613117, 0.30331242, 0.19310179, 0.43277318,\n",
       "       0.42914954, 0.55002882, 0.48394675, 0.64786437, 0.24540073,\n",
       "       0.37889396, 0.26819238, 0.45170222, 0.54338525, 0.18301441,\n",
       "       0.74474725, 0.25901864, 0.57052658, 0.11158519, 0.40604112,\n",
       "       0.10090022, 0.44449303, 0.4274635 , 0.28135109, 0.19610811,\n",
       "       0.25545585, 0.38076153, 0.25438787, 0.16176056, 0.1664484 ,\n",
       "       0.64648964, 0.3858181 , 0.2496571 , 0.42347638, 0.16044979,\n",
       "       0.16084962, 0.27433217, 0.20934299, 0.54825363, 0.42006383,\n",
       "       0.40060396, 0.6304733 , 0.20693718, 0.34475683, 0.5434357 ,\n",
       "       0.3363133 , 0.30520289, 0.20952995, 0.12966026, 0.10897228,\n",
       "       0.39102237, 0.24879083, 0.19756661, 0.31386595, 0.35488281,\n",
       "       0.36567356, 0.20853509, 0.10964819, 0.25000794, 0.19578437,\n",
       "       0.61913372, 0.34767626, 0.36974545, 0.07391626, 0.26012499,\n",
       "       0.19938831, 0.44148241, 0.22693116, 0.29378561, 0.28129485,\n",
       "       0.26198384, 0.71383103, 0.24968529, 0.35213074, 0.20175496,\n",
       "       0.73904814, 0.5785293 , 0.17178432, 0.43916157, 0.37460425,\n",
       "       0.56035524, 0.37090355, 0.25803095, 0.55213141, 0.23967384,\n",
       "       0.34065321, 0.43907198, 0.22807556, 0.75738365, 0.54327708,\n",
       "       0.14532906, 0.33686384, 0.23828665, 0.58202717, 0.38768865,\n",
       "       0.75187259, 0.34618466, 0.06977994, 0.26826105, 0.41992189,\n",
       "       0.1724633 , 0.17574614, 0.18316305, 0.25023174, 0.2013656 ,\n",
       "       0.47804215, 0.22075745, 0.207683  , 0.45228113, 0.34644988,\n",
       "       0.32325804, 0.27553886, 0.67568524, 0.19879875, 0.42352136,\n",
       "       0.18184275, 0.28517065, 0.44111823, 0.34267189, 0.28482272,\n",
       "       0.29043132, 0.336635  , 0.26407915, 0.41086956, 0.34845103,\n",
       "       0.15382784, 0.4355262 , 0.11939478, 0.22578109, 0.3222523 ,\n",
       "       0.14263091, 0.38342192, 0.80054871, 0.19042578, 0.80162876,\n",
       "       0.20553068, 0.60409649, 0.31496143, 0.3865192 , 0.55600845,\n",
       "       0.65323222, 0.40570469, 0.57617666, 0.42650667, 0.23185931,\n",
       "       0.41805753, 0.16181336, 0.19201946, 0.20438624, 0.12127303,\n",
       "       0.22511743, 0.58422211, 0.40695307, 0.17266126, 0.11997612,\n",
       "       0.48796917, 0.51535487, 0.34873981, 0.45781599, 0.33717743,\n",
       "       0.31499806, 0.69048393, 0.44810008, 0.54623356, 0.38344947,\n",
       "       0.21395947, 0.10136477, 0.15563742, 0.4810575 , 0.15851494,\n",
       "       0.20913111, 0.30780677, 0.21672293, 0.40796732, 0.22898544,\n",
       "       0.57279937, 0.56713556, 0.41142453, 0.31596654, 0.26092008,\n",
       "       0.37859592, 0.09464796, 0.16918713, 0.29412999, 0.22251158,\n",
       "       0.39635551, 0.20068141, 0.38165767, 0.26824758, 0.36792477,\n",
       "       0.52464276, 0.64610307, 0.56438774, 0.19343233, 0.13364067,\n",
       "       0.48602327, 0.43189096, 0.38534966, 0.29677937, 0.12604983,\n",
       "       0.22868696, 0.54604619, 0.19483254, 0.14868494, 0.33098383,\n",
       "       0.31315375, 0.33659547, 0.32057219, 0.28826418, 0.15834894,\n",
       "       0.10617975, 0.19735558, 0.3813121 , 0.15738725, 0.19298031,\n",
       "       0.64217647, 0.45829284, 0.07147257, 0.46671109, 0.32180169,\n",
       "       0.71570973, 0.12125331, 0.34630756, 0.46414716, 0.20108375,\n",
       "       0.26019974, 0.29870579, 0.69336254, 0.43476506, 0.25045826,\n",
       "       0.61129913, 0.8228422 , 0.18712341, 0.55213141, 0.61636597,\n",
       "       0.5522064 , 0.42378123, 0.4093364 , 0.39471011, 0.11705138,\n",
       "       0.28917869, 0.3306805 , 0.44550203, 0.5       , 0.13171141,\n",
       "       0.44832577, 0.22608778, 0.24916716, 0.55737331, 0.283507  ,\n",
       "       0.52993674, 0.4052645 , 0.5207477 , 0.39519297, 0.44567543,\n",
       "       0.19261164, 0.54445787, 0.65754596, 0.61102746, 0.71980175,\n",
       "       0.41996905, 0.22034591, 0.44111495, 0.14127212, 0.47723712,\n",
       "       0.19820041, 0.21622233, 0.31022249, 0.14701619, 0.38026069,\n",
       "       0.21831388, 0.09814373, 0.47550734, 0.45360221, 0.57235923,\n",
       "       0.42794185, 0.44072946, 0.21681746, 0.33515467, 0.28659436,\n",
       "       0.34885546, 0.20827581, 0.26960041, 0.11700877, 0.47136758,\n",
       "       0.55211961, 0.52509582, 0.69055415])"
      ]
     },
     "execution_count": 34,
     "metadata": {},
     "output_type": "execute_result"
    }
   ],
   "source": [
    "test_scores"
   ]
  },
  {
   "cell_type": "code",
   "execution_count": null,
   "metadata": {},
   "outputs": [],
   "source": []
  }
 ],
 "metadata": {
  "kernelspec": {
   "display_name": "Python 3",
   "language": "python",
   "name": "python3"
  },
  "language_info": {
   "codemirror_mode": {
    "name": "ipython",
    "version": 3
   },
   "file_extension": ".py",
   "mimetype": "text/x-python",
   "name": "python",
   "nbconvert_exporter": "python",
   "pygments_lexer": "ipython3",
   "version": "3.7.5"
  }
 },
 "nbformat": 4,
 "nbformat_minor": 2
}
