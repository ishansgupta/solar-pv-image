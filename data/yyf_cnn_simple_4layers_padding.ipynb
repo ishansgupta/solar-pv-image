{
 "cells": [
  {
   "cell_type": "code",
   "execution_count": 1,
   "metadata": {},
   "outputs": [
    {
     "name": "stderr",
     "output_type": "stream",
     "text": [
      "Using TensorFlow backend.\n"
     ]
    }
   ],
   "source": [
    "from keras.utils import to_categorical\n",
    "import keras"
   ]
  },
  {
   "cell_type": "code",
   "execution_count": 2,
   "metadata": {},
   "outputs": [],
   "source": [
    "import numpy as np\n",
    "import matplotlib.pyplot as plt\n",
    "import matplotlib as mpl\n",
    "import pandas as pd\n",
    "from sklearn.model_selection import StratifiedKFold\n",
    "from sklearn.neighbors import KNeighborsClassifier\n",
    "import sklearn.metrics as metrics\n",
    "from sklearn.model_selection import train_test_split\n",
    "plt.close()\n",
    "\n",
    "# Set the directories for the data and the CSV files that contain ids/labels\n",
    "dir_train_images  = './training/'\n",
    "dir_test_images   = './testing/'\n",
    "dir_train_labels  = './labels_training.csv'\n",
    "dir_test_ids      = './sample_submission.csv'"
   ]
  },
  {
   "cell_type": "code",
   "execution_count": 3,
   "metadata": {},
   "outputs": [],
   "source": [
    "def load_data(dir_data, dir_labels, training=True):\n",
    "    ''' Load each of the image files into memory \n",
    "\n",
    "    While this is feasible with a smaller dataset, for larger datasets,\n",
    "    not all the images would be able to be loaded into memory\n",
    "\n",
    "    When training=True, the labels are also loaded\n",
    "    '''\n",
    "    labels_pd = pd.read_csv(dir_labels)\n",
    "    ids       = labels_pd.id.values\n",
    "    data      = []\n",
    "    for identifier in ids:\n",
    "        fname     = dir_data + identifier.astype(str) + '.tif'\n",
    "        image     = mpl.image.imread(fname)\n",
    "        data.append(image)\n",
    "    data = np.array(data) # Convert to Numpy array\n",
    "    if training:\n",
    "        labels = labels_pd.label.values\n",
    "        return data, labels\n",
    "    else:\n",
    "        return data, ids"
   ]
  },
  {
   "cell_type": "code",
   "execution_count": 4,
   "metadata": {},
   "outputs": [],
   "source": [
    "data, y_binary = load_data(dir_train_images, dir_train_labels, training=True)\n",
    "\n",
    "test_data, ids = load_data(dir_test_images, dir_test_ids, training=False)\n",
    "\n",
    "img_rows, img_cols = 101, 101\n",
    "\n",
    "data = data.astype('float32')\n",
    "data /= 255\n",
    "\n",
    "test_data = test_data.astype('float32')\n",
    "test_data /= 255\n",
    "\n",
    "input_shape = img_rows, img_cols, 3"
   ]
  },
  {
   "cell_type": "code",
   "execution_count": 5,
   "metadata": {},
   "outputs": [],
   "source": [
    "train_data, validation_data, train_label, validation_label = train_test_split(data, y_binary, test_size=100, random_state=114)"
   ]
  },
  {
   "cell_type": "code",
   "execution_count": 6,
   "metadata": {},
   "outputs": [],
   "source": [
    "from keras.models import Sequential\n",
    "from keras.layers import Dense, Dropout, Flatten\n",
    "from keras.layers import Conv2D, MaxPooling2D, BatchNormalization\n",
    "\n",
    "# Initialising the CNN\n",
    "classifier = Sequential()\n",
    "\n",
    "# Step 1 - Convolution\n",
    "classifier.add(Conv2D(32, (3, 3), input_shape = input_shape, activation = 'relu', padding = 'same'))\n",
    "\n",
    "# Step 2 - Pooling\n",
    "#classifier.add(BatchNormalization())\n",
    "classifier.add(MaxPooling2D(pool_size = (2, 2)))\n",
    "#classifier.add(Dropout(0.2))\n",
    "\n",
    "# Adding a second convolutional layer\n",
    "classifier.add(Conv2D(64, (3, 3), activation = 'relu', padding = 'same'))\n",
    "#classifier.add(BatchNormalization())\n",
    "classifier.add(MaxPooling2D(pool_size = (2, 2)))\n",
    "#classifier.add(Dropout(0.2))\n",
    "\n",
    "# Adding a third convolutional layer\n",
    "classifier.add(Conv2D(128, (3, 3), activation = 'relu', padding = 'same'))\n",
    "#classifier.add(BatchNormalization())\n",
    "classifier.add(MaxPooling2D(pool_size = (2, 2)))\n",
    "classifier.add(Dropout(0.5))\n",
    "\n",
    "# Adding a fourth convolutional layer\n",
    "classifier.add(Conv2D(128, (3, 3), activation = 'relu', padding = 'same'))\n",
    "#classifier.add(BatchNormalization())\n",
    "classifier.add(MaxPooling2D(pool_size = (2, 2)))\n",
    "#classifier.add(Dropout(0.2))\n",
    "\n",
    "# Step 3 - Flattening\n",
    "classifier.add(Flatten())\n",
    "\n",
    "# Step 4 - Full connection\n",
    "classifier.add(Dense(units = 64, activation = 'relu'))\n",
    "classifier.add(Dense(units = 1, activation = 'sigmoid'))\n",
    "\n",
    "classifier.compile(loss=keras.losses.binary_crossentropy,\n",
    "          optimizer=keras.optimizers.Adam(),\n",
    "          metrics=['accuracy'])"
   ]
  },
  {
   "cell_type": "code",
   "execution_count": 7,
   "metadata": {},
   "outputs": [
    {
     "name": "stdout",
     "output_type": "stream",
     "text": [
      "Model: \"sequential_1\"\n",
      "_________________________________________________________________\n",
      "Layer (type)                 Output Shape              Param #   \n",
      "=================================================================\n",
      "conv2d_1 (Conv2D)            (None, 101, 101, 32)      896       \n",
      "_________________________________________________________________\n",
      "max_pooling2d_1 (MaxPooling2 (None, 50, 50, 32)        0         \n",
      "_________________________________________________________________\n",
      "conv2d_2 (Conv2D)            (None, 50, 50, 64)        18496     \n",
      "_________________________________________________________________\n",
      "max_pooling2d_2 (MaxPooling2 (None, 25, 25, 64)        0         \n",
      "_________________________________________________________________\n",
      "conv2d_3 (Conv2D)            (None, 25, 25, 128)       73856     \n",
      "_________________________________________________________________\n",
      "max_pooling2d_3 (MaxPooling2 (None, 12, 12, 128)       0         \n",
      "_________________________________________________________________\n",
      "dropout_1 (Dropout)          (None, 12, 12, 128)       0         \n",
      "_________________________________________________________________\n",
      "conv2d_4 (Conv2D)            (None, 12, 12, 128)       147584    \n",
      "_________________________________________________________________\n",
      "max_pooling2d_4 (MaxPooling2 (None, 6, 6, 128)         0         \n",
      "_________________________________________________________________\n",
      "flatten_1 (Flatten)          (None, 4608)              0         \n",
      "_________________________________________________________________\n",
      "dense_1 (Dense)              (None, 64)                294976    \n",
      "_________________________________________________________________\n",
      "dense_2 (Dense)              (None, 1)                 65        \n",
      "=================================================================\n",
      "Total params: 535,873\n",
      "Trainable params: 535,873\n",
      "Non-trainable params: 0\n",
      "_________________________________________________________________\n"
     ]
    }
   ],
   "source": [
    "classifier.summary()"
   ]
  },
  {
   "cell_type": "code",
   "execution_count": 8,
   "metadata": {},
   "outputs": [
    {
     "name": "stdout",
     "output_type": "stream",
     "text": [
      "Train on 1500 samples, validate on 100 samples\n",
      "Epoch 1/40\n",
      "1500/1500 [==============================] - 5s 4ms/step - loss: 0.6945 - accuracy: 0.5953 - val_loss: 0.6702 - val_accuracy: 0.6200\n",
      "Epoch 2/40\n",
      "1500/1500 [==============================] - 1s 853us/step - loss: 0.6484 - accuracy: 0.6633 - val_loss: 0.6699 - val_accuracy: 0.6200\n",
      "Epoch 3/40\n",
      "1500/1500 [==============================] - 1s 857us/step - loss: 0.6505 - accuracy: 0.6633 - val_loss: 0.6704 - val_accuracy: 0.6200\n",
      "Epoch 4/40\n",
      "1500/1500 [==============================] - 1s 865us/step - loss: 0.6421 - accuracy: 0.6633 - val_loss: 0.6677 - val_accuracy: 0.6200\n",
      "Epoch 5/40\n",
      "1500/1500 [==============================] - 1s 860us/step - loss: 0.6441 - accuracy: 0.6633 - val_loss: 0.6734 - val_accuracy: 0.6200\n",
      "Epoch 6/40\n",
      "1500/1500 [==============================] - 1s 857us/step - loss: 0.6411 - accuracy: 0.6633 - val_loss: 0.6656 - val_accuracy: 0.6200\n",
      "Epoch 7/40\n",
      "1500/1500 [==============================] - 1s 853us/step - loss: 0.6388 - accuracy: 0.6633 - val_loss: 0.6625 - val_accuracy: 0.6200\n",
      "Epoch 8/40\n",
      "1500/1500 [==============================] - 1s 860us/step - loss: 0.6380 - accuracy: 0.6633 - val_loss: 0.6618 - val_accuracy: 0.6200\n",
      "Epoch 9/40\n",
      "1500/1500 [==============================] - 1s 859us/step - loss: 0.6359 - accuracy: 0.6633 - val_loss: 0.6554 - val_accuracy: 0.6200\n",
      "Epoch 10/40\n",
      "1500/1500 [==============================] - 1s 865us/step - loss: 0.6142 - accuracy: 0.6633 - val_loss: 0.8034 - val_accuracy: 0.6200\n",
      "Epoch 11/40\n",
      "1500/1500 [==============================] - 1s 869us/step - loss: 0.6475 - accuracy: 0.6700 - val_loss: 0.6519 - val_accuracy: 0.6200\n",
      "Epoch 12/40\n",
      "1500/1500 [==============================] - 1s 859us/step - loss: 0.6208 - accuracy: 0.6633 - val_loss: 0.6331 - val_accuracy: 0.6200\n",
      "Epoch 13/40\n",
      "1500/1500 [==============================] - 1s 875us/step - loss: 0.6000 - accuracy: 0.6640 - val_loss: 0.6223 - val_accuracy: 0.6100\n",
      "Epoch 14/40\n",
      "1500/1500 [==============================] - 1s 845us/step - loss: 0.6313 - accuracy: 0.6787 - val_loss: 0.6402 - val_accuracy: 0.6200\n",
      "Epoch 15/40\n",
      "1500/1500 [==============================] - 1s 975us/step - loss: 0.5823 - accuracy: 0.6873 - val_loss: 0.6581 - val_accuracy: 0.6600\n",
      "Epoch 16/40\n",
      "1500/1500 [==============================] - 1s 897us/step - loss: 0.5741 - accuracy: 0.6933 - val_loss: 0.6276 - val_accuracy: 0.6500\n",
      "Epoch 17/40\n",
      "1500/1500 [==============================] - 1s 868us/step - loss: 0.5638 - accuracy: 0.7080 - val_loss: 0.5804 - val_accuracy: 0.7000\n",
      "Epoch 18/40\n",
      "1500/1500 [==============================] - 1s 860us/step - loss: 0.5728 - accuracy: 0.6967 - val_loss: 0.5861 - val_accuracy: 0.7200\n",
      "Epoch 19/40\n",
      "1500/1500 [==============================] - 1s 865us/step - loss: 0.5414 - accuracy: 0.7287 - val_loss: 0.5583 - val_accuracy: 0.7000\n",
      "Epoch 20/40\n",
      "1500/1500 [==============================] - 1s 857us/step - loss: 0.5394 - accuracy: 0.7293 - val_loss: 0.5529 - val_accuracy: 0.7400\n",
      "Epoch 21/40\n",
      "1500/1500 [==============================] - 1s 862us/step - loss: 0.5272 - accuracy: 0.7433 - val_loss: 0.5451 - val_accuracy: 0.7900\n",
      "Epoch 22/40\n",
      "1500/1500 [==============================] - 1s 865us/step - loss: 0.5030 - accuracy: 0.7560 - val_loss: 0.5407 - val_accuracy: 0.7700\n",
      "Epoch 23/40\n",
      "1500/1500 [==============================] - 1s 866us/step - loss: 0.4789 - accuracy: 0.7580 - val_loss: 0.5239 - val_accuracy: 0.7800\n",
      "Epoch 24/40\n",
      "1500/1500 [==============================] - 1s 884us/step - loss: 0.5132 - accuracy: 0.7547 - val_loss: 0.5607 - val_accuracy: 0.8100\n",
      "Epoch 25/40\n",
      "1500/1500 [==============================] - 1s 868us/step - loss: 0.4865 - accuracy: 0.7680 - val_loss: 0.5179 - val_accuracy: 0.7600\n",
      "Epoch 26/40\n",
      "1500/1500 [==============================] - 1s 865us/step - loss: 0.4530 - accuracy: 0.7847 - val_loss: 0.4528 - val_accuracy: 0.8000\n",
      "Epoch 27/40\n",
      "1500/1500 [==============================] - 1s 859us/step - loss: 0.4033 - accuracy: 0.8193 - val_loss: 0.4050 - val_accuracy: 0.8100\n",
      "Epoch 28/40\n",
      "1500/1500 [==============================] - 1s 862us/step - loss: 0.3960 - accuracy: 0.8280 - val_loss: 0.3953 - val_accuracy: 0.8500\n",
      "Epoch 29/40\n",
      "1500/1500 [==============================] - 1s 870us/step - loss: 0.3570 - accuracy: 0.8440 - val_loss: 0.3825 - val_accuracy: 0.8600\n",
      "Epoch 30/40\n",
      "1500/1500 [==============================] - 1s 868us/step - loss: 0.3712 - accuracy: 0.8400 - val_loss: 0.3913 - val_accuracy: 0.8700\n",
      "Epoch 31/40\n",
      "1500/1500 [==============================] - 1s 864us/step - loss: 0.2907 - accuracy: 0.8833 - val_loss: 0.2624 - val_accuracy: 0.9000\n",
      "Epoch 32/40\n",
      "1500/1500 [==============================] - 1s 867us/step - loss: 0.2918 - accuracy: 0.8713 - val_loss: 0.3206 - val_accuracy: 0.8400\n",
      "Epoch 33/40\n",
      "1500/1500 [==============================] - 1s 879us/step - loss: 0.3319 - accuracy: 0.8513 - val_loss: 0.2701 - val_accuracy: 0.8600\n",
      "Epoch 34/40\n",
      "1500/1500 [==============================] - 1s 861us/step - loss: 0.2470 - accuracy: 0.9000 - val_loss: 0.2542 - val_accuracy: 0.8900\n",
      "Epoch 35/40\n",
      "1500/1500 [==============================] - 1s 870us/step - loss: 0.3296 - accuracy: 0.8587 - val_loss: 0.3360 - val_accuracy: 0.9000\n",
      "Epoch 36/40\n",
      "1500/1500 [==============================] - 1s 868us/step - loss: 0.3191 - accuracy: 0.8553 - val_loss: 0.2706 - val_accuracy: 0.8900\n",
      "Epoch 37/40\n",
      "1500/1500 [==============================] - 1s 867us/step - loss: 0.2455 - accuracy: 0.9007 - val_loss: 0.2305 - val_accuracy: 0.9300\n",
      "Epoch 38/40\n",
      "1500/1500 [==============================] - 1s 868us/step - loss: 0.1914 - accuracy: 0.9313 - val_loss: 0.1700 - val_accuracy: 0.9300\n",
      "Epoch 39/40\n",
      "1500/1500 [==============================] - 1s 863us/step - loss: 0.2040 - accuracy: 0.9133 - val_loss: 0.1691 - val_accuracy: 0.9500\n",
      "Epoch 40/40\n",
      "1500/1500 [==============================] - 1s 863us/step - loss: 0.1844 - accuracy: 0.9233 - val_loss: 0.2126 - val_accuracy: 0.9500\n"
     ]
    }
   ],
   "source": [
    "history4 = classifier.fit(\n",
    "    data, \n",
    "    y_binary,\n",
    "    batch_size=100,\n",
    "    epochs=40,\n",
    "    verbose=1,\n",
    "    validation_data=(validation_data, validation_label))"
   ]
  },
  {
   "cell_type": "code",
   "execution_count": 9,
   "metadata": {},
   "outputs": [
    {
     "name": "stdout",
     "output_type": "stream",
     "text": [
      "Epoch 1/150\n",
      "15/15 [==============================] - 3s 182ms/step - loss: 0.4431 - accuracy: 0.8193 - val_loss: 0.3496 - val_accuracy: 0.8600\n",
      "Epoch 2/150\n",
      "15/15 [==============================] - 3s 185ms/step - loss: 0.3394 - accuracy: 0.8607 - val_loss: 0.3510 - val_accuracy: 0.8400\n",
      "Epoch 3/150\n",
      "15/15 [==============================] - 3s 174ms/step - loss: 0.3454 - accuracy: 0.8540 - val_loss: 0.2856 - val_accuracy: 0.9000\n",
      "Epoch 4/150\n",
      "15/15 [==============================] - 3s 190ms/step - loss: 0.3098 - accuracy: 0.8780 - val_loss: 0.2902 - val_accuracy: 0.8600\n",
      "Epoch 5/150\n",
      "15/15 [==============================] - 3s 187ms/step - loss: 0.2691 - accuracy: 0.8953 - val_loss: 0.3108 - val_accuracy: 0.8300\n",
      "Epoch 6/150\n",
      "15/15 [==============================] - 3s 199ms/step - loss: 0.3733 - accuracy: 0.8333 - val_loss: 0.4083 - val_accuracy: 0.8500\n",
      "Epoch 7/150\n",
      "15/15 [==============================] - 3s 203ms/step - loss: 0.3068 - accuracy: 0.8860 - val_loss: 0.2909 - val_accuracy: 0.8900\n",
      "Epoch 8/150\n",
      "15/15 [==============================] - 3s 209ms/step - loss: 0.2776 - accuracy: 0.8927 - val_loss: 0.2828 - val_accuracy: 0.9000\n",
      "Epoch 9/150\n",
      "15/15 [==============================] - 3s 199ms/step - loss: 0.2536 - accuracy: 0.8980 - val_loss: 0.2671 - val_accuracy: 0.8600\n",
      "Epoch 10/150\n",
      "15/15 [==============================] - 3s 200ms/step - loss: 0.2202 - accuracy: 0.9127 - val_loss: 0.2139 - val_accuracy: 0.9300\n",
      "Epoch 11/150\n",
      "15/15 [==============================] - 3s 197ms/step - loss: 0.2046 - accuracy: 0.9293 - val_loss: 0.2276 - val_accuracy: 0.9000\n",
      "Epoch 12/150\n",
      "15/15 [==============================] - 3s 201ms/step - loss: 0.2133 - accuracy: 0.9187 - val_loss: 0.1974 - val_accuracy: 0.9300\n",
      "Epoch 13/150\n",
      "15/15 [==============================] - 3s 207ms/step - loss: 0.2131 - accuracy: 0.9247 - val_loss: 0.2013 - val_accuracy: 0.9100\n",
      "Epoch 14/150\n",
      "15/15 [==============================] - 3s 202ms/step - loss: 0.1996 - accuracy: 0.9280 - val_loss: 0.2133 - val_accuracy: 0.8900\n",
      "Epoch 15/150\n",
      "15/15 [==============================] - 3s 206ms/step - loss: 0.1914 - accuracy: 0.9293 - val_loss: 0.2012 - val_accuracy: 0.9300\n",
      "Epoch 16/150\n",
      "15/15 [==============================] - 3s 203ms/step - loss: 0.1763 - accuracy: 0.9320 - val_loss: 0.1256 - val_accuracy: 0.9500\n",
      "Epoch 17/150\n",
      "15/15 [==============================] - 3s 197ms/step - loss: 0.1910 - accuracy: 0.9313 - val_loss: 0.1994 - val_accuracy: 0.9100\n",
      "Epoch 18/150\n",
      "15/15 [==============================] - 3s 202ms/step - loss: 0.2532 - accuracy: 0.8967 - val_loss: 0.2912 - val_accuracy: 0.8500\n",
      "Epoch 19/150\n",
      "15/15 [==============================] - 3s 204ms/step - loss: 0.2362 - accuracy: 0.9107 - val_loss: 0.2205 - val_accuracy: 0.9000\n",
      "Epoch 20/150\n",
      "15/15 [==============================] - 3s 197ms/step - loss: 0.1625 - accuracy: 0.9393 - val_loss: 0.2050 - val_accuracy: 0.9200\n",
      "Epoch 21/150\n",
      "15/15 [==============================] - 3s 201ms/step - loss: 0.1867 - accuracy: 0.9327 - val_loss: 0.1793 - val_accuracy: 0.9300\n",
      "Epoch 22/150\n",
      "15/15 [==============================] - 3s 199ms/step - loss: 0.1905 - accuracy: 0.9300 - val_loss: 0.2010 - val_accuracy: 0.9100\n",
      "Epoch 23/150\n",
      "15/15 [==============================] - 3s 198ms/step - loss: 0.1633 - accuracy: 0.9407 - val_loss: 0.1705 - val_accuracy: 0.9500\n",
      "Epoch 24/150\n",
      "15/15 [==============================] - 3s 211ms/step - loss: 0.1622 - accuracy: 0.9393 - val_loss: 0.1579 - val_accuracy: 0.9600\n",
      "Epoch 25/150\n",
      "15/15 [==============================] - 3s 199ms/step - loss: 0.1635 - accuracy: 0.9380 - val_loss: 0.1685 - val_accuracy: 0.9400\n",
      "Epoch 26/150\n",
      "15/15 [==============================] - 3s 197ms/step - loss: 0.1807 - accuracy: 0.9333 - val_loss: 0.2166 - val_accuracy: 0.9500\n",
      "Epoch 27/150\n",
      "15/15 [==============================] - 3s 208ms/step - loss: 0.1922 - accuracy: 0.9233 - val_loss: 0.2141 - val_accuracy: 0.9000\n",
      "Epoch 28/150\n",
      "15/15 [==============================] - 3s 201ms/step - loss: 0.1491 - accuracy: 0.9473 - val_loss: 0.1268 - val_accuracy: 0.9700\n",
      "Epoch 29/150\n",
      "15/15 [==============================] - 3s 208ms/step - loss: 0.1954 - accuracy: 0.9327 - val_loss: 0.1550 - val_accuracy: 0.9600\n",
      "Epoch 30/150\n",
      "15/15 [==============================] - 3s 199ms/step - loss: 0.1619 - accuracy: 0.9333 - val_loss: 0.1910 - val_accuracy: 0.9500\n",
      "Epoch 31/150\n",
      "15/15 [==============================] - 3s 198ms/step - loss: 0.1331 - accuracy: 0.9507 - val_loss: 0.2000 - val_accuracy: 0.9200\n",
      "Epoch 32/150\n",
      "15/15 [==============================] - 3s 198ms/step - loss: 0.1854 - accuracy: 0.9313 - val_loss: 0.1624 - val_accuracy: 0.9200\n",
      "Epoch 33/150\n",
      "15/15 [==============================] - 3s 200ms/step - loss: 0.1570 - accuracy: 0.9433 - val_loss: 0.1852 - val_accuracy: 0.9200\n",
      "Epoch 34/150\n",
      "15/15 [==============================] - 3s 211ms/step - loss: 0.1552 - accuracy: 0.9440 - val_loss: 0.1596 - val_accuracy: 0.9200\n",
      "Epoch 35/150\n",
      "15/15 [==============================] - 3s 199ms/step - loss: 0.1833 - accuracy: 0.9293 - val_loss: 0.1634 - val_accuracy: 0.9200\n",
      "Epoch 36/150\n",
      "15/15 [==============================] - 3s 202ms/step - loss: 0.1690 - accuracy: 0.9347 - val_loss: 0.2043 - val_accuracy: 0.9200\n",
      "Epoch 37/150\n",
      "15/15 [==============================] - 3s 200ms/step - loss: 0.1520 - accuracy: 0.9407 - val_loss: 0.1719 - val_accuracy: 0.9500\n",
      "Epoch 38/150\n",
      "15/15 [==============================] - 3s 197ms/step - loss: 0.1357 - accuracy: 0.9547 - val_loss: 0.1227 - val_accuracy: 0.9500\n",
      "Epoch 39/150\n",
      "15/15 [==============================] - 3s 201ms/step - loss: 0.1447 - accuracy: 0.9467 - val_loss: 0.1310 - val_accuracy: 0.9300\n",
      "Epoch 40/150\n",
      "15/15 [==============================] - 3s 209ms/step - loss: 0.1405 - accuracy: 0.9500 - val_loss: 0.1122 - val_accuracy: 0.9600\n",
      "Epoch 41/150\n",
      "15/15 [==============================] - 3s 198ms/step - loss: 0.1369 - accuracy: 0.9540 - val_loss: 0.1542 - val_accuracy: 0.9300\n",
      "Epoch 42/150\n",
      "15/15 [==============================] - 3s 224ms/step - loss: 0.1248 - accuracy: 0.9513 - val_loss: 0.0995 - val_accuracy: 0.9600\n",
      "Epoch 43/150\n",
      "15/15 [==============================] - 3s 200ms/step - loss: 0.1263 - accuracy: 0.9540 - val_loss: 0.0831 - val_accuracy: 0.9700\n",
      "Epoch 44/150\n",
      "15/15 [==============================] - 3s 199ms/step - loss: 0.1316 - accuracy: 0.9533 - val_loss: 0.1121 - val_accuracy: 0.9600\n",
      "Epoch 45/150\n",
      "15/15 [==============================] - 3s 211ms/step - loss: 0.1263 - accuracy: 0.9553 - val_loss: 0.1409 - val_accuracy: 0.9400\n",
      "Epoch 46/150\n",
      "15/15 [==============================] - 3s 201ms/step - loss: 0.1757 - accuracy: 0.9353 - val_loss: 0.1490 - val_accuracy: 0.9400\n",
      "Epoch 47/150\n",
      "15/15 [==============================] - 3s 202ms/step - loss: 0.1391 - accuracy: 0.9513 - val_loss: 0.1002 - val_accuracy: 0.9800\n",
      "Epoch 48/150\n",
      "15/15 [==============================] - 3s 199ms/step - loss: 0.1365 - accuracy: 0.9500 - val_loss: 0.1098 - val_accuracy: 0.9700\n",
      "Epoch 49/150\n",
      "15/15 [==============================] - 3s 199ms/step - loss: 0.1104 - accuracy: 0.9620 - val_loss: 0.1223 - val_accuracy: 0.9500\n",
      "Epoch 50/150\n",
      "15/15 [==============================] - 3s 211ms/step - loss: 0.1409 - accuracy: 0.9440 - val_loss: 0.2762 - val_accuracy: 0.9000\n",
      "Epoch 51/150\n",
      "15/15 [==============================] - 3s 207ms/step - loss: 0.1673 - accuracy: 0.9407 - val_loss: 0.1062 - val_accuracy: 0.9700\n",
      "Epoch 52/150\n",
      "15/15 [==============================] - 3s 200ms/step - loss: 0.1380 - accuracy: 0.9493 - val_loss: 0.1254 - val_accuracy: 0.9300\n",
      "Epoch 53/150\n",
      "15/15 [==============================] - 3s 203ms/step - loss: 0.1376 - accuracy: 0.9467 - val_loss: 0.1208 - val_accuracy: 0.9500\n",
      "Epoch 54/150\n",
      "15/15 [==============================] - 3s 200ms/step - loss: 0.1147 - accuracy: 0.9560 - val_loss: 0.0994 - val_accuracy: 0.9700\n",
      "Epoch 55/150\n",
      "15/15 [==============================] - 3s 208ms/step - loss: 0.1139 - accuracy: 0.9560 - val_loss: 0.1104 - val_accuracy: 0.9500\n",
      "Epoch 56/150\n",
      "15/15 [==============================] - 3s 197ms/step - loss: 0.1368 - accuracy: 0.9500 - val_loss: 0.1806 - val_accuracy: 0.9300\n",
      "Epoch 57/150\n",
      "15/15 [==============================] - 3s 199ms/step - loss: 0.1165 - accuracy: 0.9580 - val_loss: 0.1303 - val_accuracy: 0.9500\n",
      "Epoch 58/150\n",
      "15/15 [==============================] - 3s 202ms/step - loss: 0.1167 - accuracy: 0.9540 - val_loss: 0.0958 - val_accuracy: 0.9800\n",
      "Epoch 59/150\n",
      "15/15 [==============================] - 3s 199ms/step - loss: 0.1271 - accuracy: 0.9533 - val_loss: 0.0829 - val_accuracy: 0.9800\n",
      "Epoch 60/150\n",
      "15/15 [==============================] - 3s 200ms/step - loss: 0.1225 - accuracy: 0.9507 - val_loss: 0.0823 - val_accuracy: 0.9800\n",
      "Epoch 61/150\n",
      "15/15 [==============================] - 3s 211ms/step - loss: 0.1219 - accuracy: 0.9620 - val_loss: 0.0983 - val_accuracy: 0.9700\n",
      "Epoch 62/150\n",
      "15/15 [==============================] - 3s 196ms/step - loss: 0.1162 - accuracy: 0.9527 - val_loss: 0.1660 - val_accuracy: 0.9200\n",
      "Epoch 63/150\n",
      "15/15 [==============================] - 3s 201ms/step - loss: 0.1247 - accuracy: 0.9500 - val_loss: 0.1175 - val_accuracy: 0.9600\n",
      "Epoch 64/150\n",
      "15/15 [==============================] - 3s 199ms/step - loss: 0.1065 - accuracy: 0.9587 - val_loss: 0.1203 - val_accuracy: 0.9400\n",
      "Epoch 65/150\n",
      "15/15 [==============================] - 3s 201ms/step - loss: 0.1113 - accuracy: 0.9627 - val_loss: 0.0953 - val_accuracy: 0.9500\n",
      "Epoch 66/150\n",
      "15/15 [==============================] - 3s 212ms/step - loss: 0.0960 - accuracy: 0.9693 - val_loss: 0.0908 - val_accuracy: 0.9400\n",
      "Epoch 67/150\n",
      "15/15 [==============================] - 3s 200ms/step - loss: 0.1036 - accuracy: 0.9613 - val_loss: 0.1017 - val_accuracy: 0.9700\n",
      "Epoch 68/150\n",
      "15/15 [==============================] - 3s 201ms/step - loss: 0.0923 - accuracy: 0.9647 - val_loss: 0.0673 - val_accuracy: 0.9800\n",
      "Epoch 69/150\n",
      "15/15 [==============================] - 3s 205ms/step - loss: 0.0940 - accuracy: 0.9633 - val_loss: 0.1008 - val_accuracy: 0.9600\n",
      "Epoch 70/150\n",
      "15/15 [==============================] - 3s 196ms/step - loss: 0.0867 - accuracy: 0.9733 - val_loss: 0.1174 - val_accuracy: 0.9300\n",
      "Epoch 71/150\n",
      "15/15 [==============================] - 3s 211ms/step - loss: 0.0884 - accuracy: 0.9707 - val_loss: 0.1211 - val_accuracy: 0.9400\n",
      "Epoch 72/150\n",
      "15/15 [==============================] - 3s 205ms/step - loss: 0.1058 - accuracy: 0.9647 - val_loss: 0.0875 - val_accuracy: 0.9800\n",
      "Epoch 73/150\n",
      "15/15 [==============================] - 3s 198ms/step - loss: 0.0941 - accuracy: 0.9660 - val_loss: 0.0598 - val_accuracy: 0.9900\n",
      "Epoch 74/150\n",
      "15/15 [==============================] - 3s 199ms/step - loss: 0.0870 - accuracy: 0.9687 - val_loss: 0.1005 - val_accuracy: 0.9700\n",
      "Epoch 75/150\n",
      "15/15 [==============================] - 3s 209ms/step - loss: 0.1141 - accuracy: 0.9600 - val_loss: 0.0995 - val_accuracy: 0.9700\n",
      "Epoch 76/150\n",
      "15/15 [==============================] - 4s 235ms/step - loss: 0.1135 - accuracy: 0.9580 - val_loss: 0.1084 - val_accuracy: 0.9600\n",
      "Epoch 77/150\n",
      "15/15 [==============================] - 3s 199ms/step - loss: 0.1060 - accuracy: 0.9633 - val_loss: 0.0698 - val_accuracy: 0.9900\n",
      "Epoch 78/150\n",
      "15/15 [==============================] - 3s 217ms/step - loss: 0.1045 - accuracy: 0.9633 - val_loss: 0.0712 - val_accuracy: 0.9700\n",
      "Epoch 79/150\n",
      "15/15 [==============================] - 3s 201ms/step - loss: 0.0824 - accuracy: 0.9693 - val_loss: 0.0545 - val_accuracy: 0.9900\n",
      "Epoch 80/150\n",
      "15/15 [==============================] - 3s 198ms/step - loss: 0.0771 - accuracy: 0.9660 - val_loss: 0.0547 - val_accuracy: 0.9800\n",
      "Epoch 81/150\n",
      "15/15 [==============================] - 3s 220ms/step - loss: 0.0876 - accuracy: 0.9640 - val_loss: 0.0715 - val_accuracy: 0.9800\n",
      "Epoch 82/150\n",
      "15/15 [==============================] - 3s 203ms/step - loss: 0.0957 - accuracy: 0.9660 - val_loss: 0.0976 - val_accuracy: 0.9700\n",
      "Epoch 83/150\n",
      "15/15 [==============================] - 3s 211ms/step - loss: 0.0968 - accuracy: 0.9647 - val_loss: 0.0824 - val_accuracy: 0.9600\n",
      "Epoch 84/150\n",
      "15/15 [==============================] - 3s 207ms/step - loss: 0.0825 - accuracy: 0.9700 - val_loss: 0.0478 - val_accuracy: 0.9900\n",
      "Epoch 85/150\n",
      "15/15 [==============================] - 3s 205ms/step - loss: 0.0850 - accuracy: 0.9693 - val_loss: 0.0899 - val_accuracy: 0.9800\n",
      "Epoch 86/150\n",
      "15/15 [==============================] - 3s 203ms/step - loss: 0.0854 - accuracy: 0.9740 - val_loss: 0.0947 - val_accuracy: 0.9500\n",
      "Epoch 87/150\n",
      "15/15 [==============================] - 3s 205ms/step - loss: 0.0774 - accuracy: 0.9720 - val_loss: 0.0790 - val_accuracy: 0.9600\n",
      "Epoch 88/150\n",
      "15/15 [==============================] - 3s 199ms/step - loss: 0.0876 - accuracy: 0.9647 - val_loss: 0.0898 - val_accuracy: 0.9800\n",
      "Epoch 89/150\n",
      "15/15 [==============================] - 3s 201ms/step - loss: 0.0998 - accuracy: 0.9620 - val_loss: 0.0865 - val_accuracy: 0.9700\n",
      "Epoch 90/150\n",
      "15/15 [==============================] - 3s 199ms/step - loss: 0.0742 - accuracy: 0.9733 - val_loss: 0.0613 - val_accuracy: 0.9900\n",
      "Epoch 91/150\n",
      "15/15 [==============================] - 3s 199ms/step - loss: 0.0725 - accuracy: 0.9713 - val_loss: 0.0395 - val_accuracy: 0.9900\n",
      "Epoch 92/150\n",
      "15/15 [==============================] - 3s 213ms/step - loss: 0.1075 - accuracy: 0.9573 - val_loss: 0.0961 - val_accuracy: 0.9900\n",
      "Epoch 93/150\n",
      "15/15 [==============================] - 3s 199ms/step - loss: 0.0959 - accuracy: 0.9653 - val_loss: 0.1118 - val_accuracy: 0.9700\n",
      "Epoch 94/150\n",
      "15/15 [==============================] - 3s 200ms/step - loss: 0.1072 - accuracy: 0.9560 - val_loss: 0.1178 - val_accuracy: 0.9500\n",
      "Epoch 95/150\n",
      "15/15 [==============================] - 3s 205ms/step - loss: 0.0945 - accuracy: 0.9653 - val_loss: 0.0746 - val_accuracy: 0.9700\n",
      "Epoch 96/150\n",
      "15/15 [==============================] - 3s 198ms/step - loss: 0.0829 - accuracy: 0.9713 - val_loss: 0.0582 - val_accuracy: 0.9900\n",
      "Epoch 97/150\n",
      "15/15 [==============================] - 3s 208ms/step - loss: 0.0596 - accuracy: 0.9780 - val_loss: 0.0744 - val_accuracy: 0.9800\n",
      "Epoch 98/150\n",
      "15/15 [==============================] - 3s 197ms/step - loss: 0.0585 - accuracy: 0.9807 - val_loss: 0.0313 - val_accuracy: 1.0000\n",
      "Epoch 99/150\n",
      "15/15 [==============================] - 3s 202ms/step - loss: 0.0749 - accuracy: 0.9713 - val_loss: 0.0581 - val_accuracy: 0.9800\n",
      "Epoch 100/150\n",
      "15/15 [==============================] - 3s 198ms/step - loss: 0.0652 - accuracy: 0.9760 - val_loss: 0.0729 - val_accuracy: 0.9700\n",
      "Epoch 101/150\n",
      "15/15 [==============================] - 3s 200ms/step - loss: 0.0646 - accuracy: 0.9773 - val_loss: 0.0725 - val_accuracy: 0.9500\n",
      "Epoch 102/150\n",
      "15/15 [==============================] - 3s 205ms/step - loss: 0.0880 - accuracy: 0.9687 - val_loss: 0.0317 - val_accuracy: 1.0000\n",
      "Epoch 103/150\n",
      "15/15 [==============================] - 3s 208ms/step - loss: 0.0759 - accuracy: 0.9720 - val_loss: 0.0372 - val_accuracy: 0.9900\n",
      "Epoch 104/150\n",
      "15/15 [==============================] - 3s 199ms/step - loss: 0.0698 - accuracy: 0.9720 - val_loss: 0.0523 - val_accuracy: 0.9900\n",
      "Epoch 105/150\n",
      "15/15 [==============================] - 3s 197ms/step - loss: 0.0824 - accuracy: 0.9707 - val_loss: 0.0404 - val_accuracy: 0.9800\n",
      "Epoch 106/150\n",
      "15/15 [==============================] - 3s 202ms/step - loss: 0.0741 - accuracy: 0.9733 - val_loss: 0.0621 - val_accuracy: 0.9800\n",
      "Epoch 107/150\n",
      "15/15 [==============================] - 3s 200ms/step - loss: 0.0747 - accuracy: 0.9747 - val_loss: 0.0577 - val_accuracy: 0.9800\n",
      "Epoch 108/150\n",
      "15/15 [==============================] - 3s 214ms/step - loss: 0.0672 - accuracy: 0.9760 - val_loss: 0.0697 - val_accuracy: 0.9700\n",
      "Epoch 109/150\n",
      "15/15 [==============================] - 3s 197ms/step - loss: 0.0623 - accuracy: 0.9747 - val_loss: 0.0281 - val_accuracy: 1.0000\n",
      "Epoch 110/150\n",
      "15/15 [==============================] - 3s 198ms/step - loss: 0.0649 - accuracy: 0.9793 - val_loss: 0.0664 - val_accuracy: 0.9700\n",
      "Epoch 111/150\n",
      "15/15 [==============================] - 3s 200ms/step - loss: 0.0698 - accuracy: 0.9760 - val_loss: 0.0618 - val_accuracy: 0.9700\n",
      "Epoch 112/150\n",
      "15/15 [==============================] - 3s 201ms/step - loss: 0.0530 - accuracy: 0.9807 - val_loss: 0.0752 - val_accuracy: 0.9900\n",
      "Epoch 113/150\n",
      "15/15 [==============================] - 3s 208ms/step - loss: 0.0731 - accuracy: 0.9733 - val_loss: 0.0520 - val_accuracy: 0.9900\n",
      "Epoch 114/150\n",
      "15/15 [==============================] - 3s 199ms/step - loss: 0.0882 - accuracy: 0.9653 - val_loss: 0.0148 - val_accuracy: 1.0000\n",
      "Epoch 115/150\n",
      "15/15 [==============================] - 3s 204ms/step - loss: 0.0690 - accuracy: 0.9747 - val_loss: 0.0642 - val_accuracy: 0.9800\n",
      "Epoch 116/150\n",
      "15/15 [==============================] - 3s 204ms/step - loss: 0.0733 - accuracy: 0.9727 - val_loss: 0.0730 - val_accuracy: 0.9700\n",
      "Epoch 117/150\n",
      "15/15 [==============================] - 3s 207ms/step - loss: 0.1311 - accuracy: 0.9533 - val_loss: 0.0492 - val_accuracy: 0.9900\n",
      "Epoch 118/150\n",
      "15/15 [==============================] - 3s 210ms/step - loss: 0.0686 - accuracy: 0.9780 - val_loss: 0.0332 - val_accuracy: 1.0000\n",
      "Epoch 119/150\n",
      "15/15 [==============================] - 3s 198ms/step - loss: 0.0657 - accuracy: 0.9780 - val_loss: 0.0754 - val_accuracy: 0.9800\n",
      "Epoch 120/150\n",
      "15/15 [==============================] - 3s 199ms/step - loss: 0.0760 - accuracy: 0.9693 - val_loss: 0.0201 - val_accuracy: 0.9900\n",
      "Epoch 121/150\n",
      "15/15 [==============================] - 3s 199ms/step - loss: 0.0888 - accuracy: 0.9680 - val_loss: 0.0865 - val_accuracy: 0.9700\n",
      "Epoch 122/150\n",
      "15/15 [==============================] - 3s 200ms/step - loss: 0.0872 - accuracy: 0.9680 - val_loss: 0.0670 - val_accuracy: 0.9900\n",
      "Epoch 123/150\n",
      "15/15 [==============================] - 3s 205ms/step - loss: 0.0618 - accuracy: 0.9807 - val_loss: 0.0457 - val_accuracy: 0.9900\n",
      "Epoch 124/150\n",
      "15/15 [==============================] - 3s 207ms/step - loss: 0.0771 - accuracy: 0.9740 - val_loss: 0.0528 - val_accuracy: 0.9800\n",
      "Epoch 125/150\n",
      "15/15 [==============================] - 3s 200ms/step - loss: 0.0915 - accuracy: 0.9667 - val_loss: 0.0769 - val_accuracy: 0.9700\n",
      "Epoch 126/150\n",
      "15/15 [==============================] - 3s 200ms/step - loss: 0.0798 - accuracy: 0.9727 - val_loss: 0.0529 - val_accuracy: 0.9800\n",
      "Epoch 127/150\n",
      "15/15 [==============================] - 3s 204ms/step - loss: 0.0594 - accuracy: 0.9787 - val_loss: 0.0419 - val_accuracy: 0.9900\n",
      "Epoch 128/150\n",
      "15/15 [==============================] - 3s 197ms/step - loss: 0.0551 - accuracy: 0.9787 - val_loss: 0.0380 - val_accuracy: 0.9900\n",
      "Epoch 129/150\n",
      "15/15 [==============================] - 3s 208ms/step - loss: 0.0567 - accuracy: 0.9813 - val_loss: 0.0493 - val_accuracy: 0.9900\n",
      "Epoch 130/150\n",
      "15/15 [==============================] - 3s 200ms/step - loss: 0.0496 - accuracy: 0.9820 - val_loss: 0.0377 - val_accuracy: 0.9900\n",
      "Epoch 131/150\n",
      "15/15 [==============================] - 3s 200ms/step - loss: 0.0478 - accuracy: 0.9833 - val_loss: 0.0381 - val_accuracy: 0.9800\n",
      "Epoch 132/150\n",
      "15/15 [==============================] - 3s 201ms/step - loss: 0.0575 - accuracy: 0.9787 - val_loss: 0.0246 - val_accuracy: 1.0000\n",
      "Epoch 133/150\n",
      "15/15 [==============================] - 3s 199ms/step - loss: 0.0648 - accuracy: 0.9740 - val_loss: 0.0419 - val_accuracy: 0.9900\n",
      "Epoch 134/150\n",
      "15/15 [==============================] - 3s 218ms/step - loss: 0.0589 - accuracy: 0.9820 - val_loss: 0.0637 - val_accuracy: 0.9700\n",
      "Epoch 135/150\n",
      "15/15 [==============================] - 3s 197ms/step - loss: 0.0467 - accuracy: 0.9827 - val_loss: 0.0410 - val_accuracy: 0.9900\n",
      "Epoch 136/150\n",
      "15/15 [==============================] - 3s 198ms/step - loss: 0.0403 - accuracy: 0.9867 - val_loss: 0.0623 - val_accuracy: 0.9800\n",
      "Epoch 137/150\n",
      "15/15 [==============================] - 3s 201ms/step - loss: 0.0880 - accuracy: 0.9667 - val_loss: 0.0291 - val_accuracy: 1.0000\n",
      "Epoch 138/150\n",
      "15/15 [==============================] - 3s 200ms/step - loss: 0.0681 - accuracy: 0.9720 - val_loss: 0.0486 - val_accuracy: 0.9900\n",
      "Epoch 139/150\n",
      "15/15 [==============================] - 3s 209ms/step - loss: 0.0607 - accuracy: 0.9853 - val_loss: 0.0219 - val_accuracy: 0.9900\n",
      "Epoch 140/150\n",
      "15/15 [==============================] - 3s 205ms/step - loss: 0.0527 - accuracy: 0.9793 - val_loss: 0.0454 - val_accuracy: 0.9800\n",
      "Epoch 141/150\n",
      "15/15 [==============================] - 3s 208ms/step - loss: 0.0659 - accuracy: 0.9780 - val_loss: 0.0618 - val_accuracy: 0.9600\n",
      "Epoch 142/150\n",
      "15/15 [==============================] - 3s 200ms/step - loss: 0.0616 - accuracy: 0.9787 - val_loss: 0.0336 - val_accuracy: 1.0000\n",
      "Epoch 143/150\n",
      "15/15 [==============================] - 3s 198ms/step - loss: 0.0643 - accuracy: 0.9787 - val_loss: 0.0283 - val_accuracy: 1.0000\n",
      "Epoch 144/150\n",
      "15/15 [==============================] - 3s 202ms/step - loss: 0.0505 - accuracy: 0.9800 - val_loss: 0.0654 - val_accuracy: 0.9800\n",
      "Epoch 145/150\n",
      "15/15 [==============================] - 3s 208ms/step - loss: 0.0500 - accuracy: 0.9827 - val_loss: 0.0097 - val_accuracy: 1.0000\n",
      "Epoch 146/150\n",
      "15/15 [==============================] - 3s 198ms/step - loss: 0.0531 - accuracy: 0.9807 - val_loss: 0.0655 - val_accuracy: 0.9700\n",
      "Epoch 147/150\n",
      "15/15 [==============================] - 3s 200ms/step - loss: 0.0580 - accuracy: 0.9760 - val_loss: 0.0964 - val_accuracy: 0.9700\n",
      "Epoch 148/150\n",
      "15/15 [==============================] - 3s 198ms/step - loss: 0.0934 - accuracy: 0.9680 - val_loss: 0.0672 - val_accuracy: 0.9800\n",
      "Epoch 149/150\n",
      "15/15 [==============================] - 3s 201ms/step - loss: 0.0882 - accuracy: 0.9633 - val_loss: 0.0741 - val_accuracy: 0.9500\n",
      "Epoch 150/150\n",
      "15/15 [==============================] - 3s 207ms/step - loss: 0.0990 - accuracy: 0.9593 - val_loss: 0.0412 - val_accuracy: 0.9800\n"
     ]
    }
   ],
   "source": [
    "from keras.preprocessing.image import ImageDataGenerator\n",
    "gen = ImageDataGenerator(rotation_range=90, width_shift_range=0.08, shear_range=0.3,\n",
    "                               height_shift_range=0.08, zoom_range=0.08)\n",
    "\n",
    "batches = gen.flow(data, y_binary, batch_size=100)\n",
    "validation_batches = gen.flow(validation_data, validation_label, batch_size=100)\n",
    "\n",
    "history4 = classifier.fit_generator(batches, epochs=150, validation_data=validation_batches)"
   ]
  },
  {
   "cell_type": "code",
   "execution_count": 10,
   "metadata": {},
   "outputs": [],
   "source": [
    "import matplotlib.pyplot as plt\n",
    "%matplotlib inline\n",
    "from matplotlib.colors import ListedColormap\n",
    "import pandas\n",
    "import numpy\n",
    "import warnings\n",
    "warnings.filterwarnings(\"ignore\")\n",
    "import sklearn.metrics as metrics"
   ]
  },
  {
   "cell_type": "code",
   "execution_count": 11,
   "metadata": {},
   "outputs": [],
   "source": [
    "def plot_roc(labels, prediction_scores, title='ROC'):\n",
    "    fpr, tpr, _ = metrics.roc_curve(labels, prediction_scores, pos_label=1)\n",
    "    auc = metrics.roc_auc_score(labels, prediction_scores)\n",
    "    legend_string = 'AUC = {:0.3f}'.format(auc)\n",
    "       \n",
    "    plt.figure(figsize=(10,8))\n",
    "    plt.plot([0,1],[0,1],'--', color='gray', label='Chance')\n",
    "    plt.plot(fpr, tpr, label=legend_string, color = 'red')\n",
    "    plt.xlabel('False Positive Rate')\n",
    "    plt.ylabel('True Positive Rate')\n",
    "    plt.grid()\n",
    "    plt.axis('square')\n",
    "    plt.title(title)\n",
    "    plt.legend()\n",
    "    plt.tight_layout()"
   ]
  },
  {
   "cell_type": "code",
   "execution_count": 12,
   "metadata": {},
   "outputs": [],
   "source": [
    "r = classifier.predict(data)"
   ]
  },
  {
   "cell_type": "code",
   "execution_count": 13,
   "metadata": {},
   "outputs": [
    {
     "data": {
      "image/png": "[encoded data removed]",
      "text/plain": [
       "<Figure size 720x576 with 1 Axes>"
      ]
     },
     "metadata": {
      "needs_background": "light"
     },
     "output_type": "display_data"
    }
   ],
   "source": [
    "plot_roc(y_binary, r)"
   ]
  },
  {
   "cell_type": "code",
   "execution_count": 14,
   "metadata": {},
   "outputs": [
    {
     "data": {
      "text/plain": [
       "0.34769693"
      ]
     },
     "execution_count": 14,
     "metadata": {},
     "output_type": "execute_result"
    }
   ],
   "source": [
    "import numpy\n",
    "numpy.mean(r)"
   ]
  },
  {
   "cell_type": "code",
   "execution_count": 15,
   "metadata": {},
   "outputs": [
    {
     "data": {
      "text/plain": [
       "array([[2.9516363e-04],\n",
       "       [2.5775665e-02],\n",
       "       [9.7585344e-01],\n",
       "       ...,\n",
       "       [2.7344560e-05],\n",
       "       [1.9537615e-02],\n",
       "       [9.8265666e-01]], dtype=float32)"
      ]
     },
     "execution_count": 15,
     "metadata": {},
     "output_type": "execute_result"
    }
   ],
   "source": [
    "r"
   ]
  },
  {
   "cell_type": "code",
   "execution_count": 16,
   "metadata": {},
   "outputs": [
    {
     "data": {
      "text/plain": [
       "array([0, 0, 1, ..., 0, 0, 1], dtype=int64)"
      ]
     },
     "execution_count": 16,
     "metadata": {},
     "output_type": "execute_result"
    }
   ],
   "source": [
    "y_binary"
   ]
  },
  {
   "cell_type": "code",
   "execution_count": 17,
   "metadata": {},
   "outputs": [
    {
     "data": {
      "text/plain": [
       "0.33666666666666667"
      ]
     },
     "execution_count": 17,
     "metadata": {},
     "output_type": "execute_result"
    }
   ],
   "source": [
    "numpy.mean(y_binary)"
   ]
  },
  {
   "cell_type": "code",
   "execution_count": 18,
   "metadata": {},
   "outputs": [
    {
     "data": {
      "text/plain": [
       "0.006666666666666667"
      ]
     },
     "execution_count": 18,
     "metadata": {},
     "output_type": "execute_result"
    }
   ],
   "source": [
    "numpy.sum(numpy.abs((r>0.5).reshape((1500,)) - y_binary)) / 1500"
   ]
  },
  {
   "cell_type": "code",
   "execution_count": 19,
   "metadata": {},
   "outputs": [],
   "source": [
    "produce_submission = True # Switch this to True when you're ready to create a submission for Kaggle\n",
    "\n",
    "test_scores    = classifier.predict(test_data)\n",
    "test_scores = test_scores.reshape((test_scores.shape[0],))\n",
    "# Save the predictions to a CSV file for upload to Kaggle\n",
    "submission_file = pd.DataFrame({'id':    ids,\n",
    "                               'score':  test_scores})"
   ]
  },
  {
   "cell_type": "code",
   "execution_count": 20,
   "metadata": {},
   "outputs": [],
   "source": [
    "if produce_submission:\n",
    "    submission_file.to_csv('yyf_padding_cnn_4_layers.csv',\n",
    "                           columns=['id','score'],\n",
    "                           index=False)"
   ]
  },
  {
   "cell_type": "code",
   "execution_count": 21,
   "metadata": {},
   "outputs": [
    {
     "data": {
      "text/html": [
       "<div>\n",
       "<style scoped>\n",
       "    .dataframe tbody tr th:only-of-type {\n",
       "        vertical-align: middle;\n",
       "    }\n",
       "\n",
       "    .dataframe tbody tr th {\n",
       "        vertical-align: top;\n",
       "    }\n",
       "\n",
       "    .dataframe thead th {\n",
       "        text-align: right;\n",
       "    }\n",
       "</style>\n",
       "<table border=\"1\" class=\"dataframe\">\n",
       "  <thead>\n",
       "    <tr style=\"text-align: right;\">\n",
       "      <th></th>\n",
       "      <th>id</th>\n",
       "      <th>score</th>\n",
       "    </tr>\n",
       "  </thead>\n",
       "  <tbody>\n",
       "    <tr>\n",
       "      <th>0</th>\n",
       "      <td>1500</td>\n",
       "      <td>0.068346</td>\n",
       "    </tr>\n",
       "    <tr>\n",
       "      <th>1</th>\n",
       "      <td>1501</td>\n",
       "      <td>0.000387</td>\n",
       "    </tr>\n",
       "    <tr>\n",
       "      <th>2</th>\n",
       "      <td>1502</td>\n",
       "      <td>0.998553</td>\n",
       "    </tr>\n",
       "    <tr>\n",
       "      <th>3</th>\n",
       "      <td>1503</td>\n",
       "      <td>0.881284</td>\n",
       "    </tr>\n",
       "    <tr>\n",
       "      <th>4</th>\n",
       "      <td>1504</td>\n",
       "      <td>0.002378</td>\n",
       "    </tr>\n",
       "  </tbody>\n",
       "</table>\n",
       "</div>"
      ],
      "text/plain": [
       "     id     score\n",
       "0  1500  0.068346\n",
       "1  1501  0.000387\n",
       "2  1502  0.998553\n",
       "3  1503  0.881284\n",
       "4  1504  0.002378"
      ]
     },
     "execution_count": 21,
     "metadata": {},
     "output_type": "execute_result"
    }
   ],
   "source": [
    "submission_file.head()"
   ]
  },
  {
   "cell_type": "code",
   "execution_count": 46,
   "metadata": {},
   "outputs": [
    {
     "data": {
      "text/html": [
       "<div>\n",
       "<style scoped>\n",
       "    .dataframe tbody tr th:only-of-type {\n",
       "        vertical-align: middle;\n",
       "    }\n",
       "\n",
       "    .dataframe tbody tr th {\n",
       "        vertical-align: top;\n",
       "    }\n",
       "\n",
       "    .dataframe thead th {\n",
       "        text-align: right;\n",
       "    }\n",
       "</style>\n",
       "<table border=\"1\" class=\"dataframe\">\n",
       "  <thead>\n",
       "    <tr style=\"text-align: right;\">\n",
       "      <th></th>\n",
       "      <th>id</th>\n",
       "      <th>score</th>\n",
       "    </tr>\n",
       "  </thead>\n",
       "  <tbody>\n",
       "    <tr>\n",
       "      <th>423</th>\n",
       "      <td>1923</td>\n",
       "      <td>0.449591</td>\n",
       "    </tr>\n",
       "  </tbody>\n",
       "</table>\n",
       "</div>"
      ],
      "text/plain": [
       "       id     score\n",
       "423  1923  0.449591"
      ]
     },
     "execution_count": 46,
     "metadata": {},
     "output_type": "execute_result"
    }
   ],
   "source": [
    "submission_file[submission_file['id']==1923]"
   ]
  },
  {
   "cell_type": "code",
   "execution_count": 38,
   "metadata": {},
   "outputs": [],
   "source": [
    "npmat=submission_file.values"
   ]
  },
  {
   "cell_type": "code",
   "execution_count": 47,
   "metadata": {},
   "outputs": [
    {
     "data": {
      "text/plain": [
       "array([[1.92300000e+03, 4.49590832e-01]])"
      ]
     },
     "execution_count": 47,
     "metadata": {},
     "output_type": "execute_result"
    }
   ],
   "source": [
    "npmat[npmat[:,0]==1923,:]"
   ]
  },
  {
   "cell_type": "code",
   "execution_count": null,
   "metadata": {},
   "outputs": [],
   "source": []
  }
 ],
 "metadata": {
  "kernelspec": {
   "display_name": "Python 3",
   "language": "python",
   "name": "python3"
  },
  "language_info": {
   "codemirror_mode": {
    "name": "ipython",
    "version": 3
   },
   "file_extension": ".py",
   "mimetype": "text/x-python",
   "name": "python",
   "nbconvert_exporter": "python",
   "pygments_lexer": "ipython3",
   "version": "3.6.10"
  }
 },
 "nbformat": 4,
 "nbformat_minor": 4
}
