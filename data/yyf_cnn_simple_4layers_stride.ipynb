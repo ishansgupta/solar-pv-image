{
 "cells": [
  {
   "cell_type": "code",
   "execution_count": 1,
   "metadata": {},
   "outputs": [
    {
     "name": "stderr",
     "output_type": "stream",
     "text": [
      "Using TensorFlow backend.\n"
     ]
    }
   ],
   "source": [
    "from keras.utils import to_categorical\n",
    "import keras"
   ]
  },
  {
   "cell_type": "code",
   "execution_count": 2,
   "metadata": {},
   "outputs": [],
   "source": [
    "import numpy as np\n",
    "import matplotlib.pyplot as plt\n",
    "import matplotlib as mpl\n",
    "import pandas as pd\n",
    "from sklearn.model_selection import StratifiedKFold\n",
    "from sklearn.neighbors import KNeighborsClassifier\n",
    "import sklearn.metrics as metrics\n",
    "from sklearn.model_selection import train_test_split\n",
    "plt.close()\n",
    "\n",
    "# Set the directories for the data and the CSV files that contain ids/labels\n",
    "dir_train_images  = './training/'\n",
    "dir_test_images   = './testing/'\n",
    "dir_train_labels  = './labels_training.csv'\n",
    "dir_test_ids      = './sample_submission.csv'"
   ]
  },
  {
   "cell_type": "code",
   "execution_count": 3,
   "metadata": {},
   "outputs": [],
   "source": [
    "def load_data(dir_data, dir_labels, training=True):\n",
    "    ''' Load each of the image files into memory \n",
    "\n",
    "    While this is feasible with a smaller dataset, for larger datasets,\n",
    "    not all the images would be able to be loaded into memory\n",
    "\n",
    "    When training=True, the labels are also loaded\n",
    "    '''\n",
    "    labels_pd = pd.read_csv(dir_labels)\n",
    "    ids       = labels_pd.id.values\n",
    "    data      = []\n",
    "    for identifier in ids:\n",
    "        fname     = dir_data + identifier.astype(str) + '.tif'\n",
    "        image     = mpl.image.imread(fname)\n",
    "        data.append(image)\n",
    "    data = np.array(data) # Convert to Numpy array\n",
    "    if training:\n",
    "        labels = labels_pd.label.values\n",
    "        return data, labels\n",
    "    else:\n",
    "        return data, ids"
   ]
  },
  {
   "cell_type": "code",
   "execution_count": 4,
   "metadata": {},
   "outputs": [],
   "source": [
    "data, y_binary = load_data(dir_train_images, dir_train_labels, training=True)\n",
    "\n",
    "test_data, ids = load_data(dir_test_images, dir_test_ids, training=False)\n",
    "\n",
    "img_rows, img_cols = 101, 101\n",
    "\n",
    "data = data.astype('float32')\n",
    "data /= 255\n",
    "\n",
    "test_data = test_data.astype('float32')\n",
    "test_data /= 255\n",
    "\n",
    "input_shape = img_rows, img_cols, 3"
   ]
  },
  {
   "cell_type": "code",
   "execution_count": 5,
   "metadata": {},
   "outputs": [],
   "source": [
    "train_data, validation_data, train_label, validation_label = train_test_split(data, y_binary, test_size=100, random_state=114)"
   ]
  },
  {
   "cell_type": "code",
   "execution_count": 6,
   "metadata": {},
   "outputs": [],
   "source": [
    "from keras.models import Sequential\n",
    "from keras.layers import Dense, Dropout, Flatten\n",
    "from keras.layers import Conv2D, MaxPooling2D, BatchNormalization\n",
    "\n",
    "# Initialising the CNN\n",
    "classifier = Sequential()\n",
    "\n",
    "# Step 1 - Convolution\n",
    "classifier.add(Conv2D(32, (3, 3), input_shape = input_shape, activation = 'relu', padding = 'same'))\n",
    "\n",
    "# Step 2 - Pooling\n",
    "#classifier.add(BatchNormalization())\n",
    "classifier.add(MaxPooling2D(pool_size = (2, 2)))\n",
    "#classifier.add(Dropout(0.2))\n",
    "\n",
    "# Adding a second convolutional layer\n",
    "classifier.add(Conv2D(64, (3, 3), activation = 'relu', padding = 'same'))\n",
    "#classifier.add(BatchNormalization())\n",
    "classifier.add(MaxPooling2D(pool_size = (2, 2)))\n",
    "#classifier.add(Dropout(0.2)) \n",
    "\n",
    "# Adding a third convolutional layer\n",
    "classifier.add(Conv2D(128, (3, 3), activation = 'relu', strides = (2,2)))\n",
    "#classifier.add(BatchNormalization())\n",
    "classifier.add(MaxPooling2D(pool_size = (2, 2)))\n",
    "#classifier.add(Dropout(0.5))\n",
    "\n",
    "# Adding a fourth convolutional layer\n",
    "classifier.add(Conv2D(256, (3, 3), activation = 'relu', padding = 'same'))\n",
    "#classifier.add(BatchNormalization())\n",
    "classifier.add(MaxPooling2D(pool_size = (2, 2)))\n",
    "classifier.add(Dropout(0.5))\n",
    "\n",
    "# Adding a fifth convolutional layer\n",
    "classifier.add(Conv2D(128, (3, 3), activation = 'relu', padding = 'same'))\n",
    "#classifier.add(BatchNormalization())\n",
    "classifier.add(MaxPooling2D(pool_size = (2, 2)))\n",
    "classifier.add(Dropout(0.5))\n",
    "\n",
    "# Step 3 - Flattening\n",
    "classifier.add(Flatten())\n",
    "\n",
    "# Step 4 - Full connection\n",
    "classifier.add(Dense(units = 64, activation = 'relu'))\n",
    "classifier.add(Dense(units = 1, activation = 'sigmoid'))\n",
    "\n",
    "classifier.compile(loss=keras.losses.binary_crossentropy,\n",
    "          optimizer=keras.optimizers.Adam(),\n",
    "          metrics=['accuracy'])"
   ]
  },
  {
   "cell_type": "code",
   "execution_count": 7,
   "metadata": {},
   "outputs": [
    {
     "name": "stdout",
     "output_type": "stream",
     "text": [
      "Model: \"sequential_1\"\n",
      "_________________________________________________________________\n",
      "Layer (type)                 Output Shape              Param #   \n",
      "=================================================================\n",
      "conv2d_1 (Conv2D)            (None, 101, 101, 32)      896       \n",
      "_________________________________________________________________\n",
      "max_pooling2d_1 (MaxPooling2 (None, 50, 50, 32)        0         \n",
      "_________________________________________________________________\n",
      "conv2d_2 (Conv2D)            (None, 50, 50, 64)        18496     \n",
      "_________________________________________________________________\n",
      "max_pooling2d_2 (MaxPooling2 (None, 25, 25, 64)        0         \n",
      "_________________________________________________________________\n",
      "conv2d_3 (Conv2D)            (None, 12, 12, 128)       73856     \n",
      "_________________________________________________________________\n",
      "max_pooling2d_3 (MaxPooling2 (None, 6, 6, 128)         0         \n",
      "_________________________________________________________________\n",
      "conv2d_4 (Conv2D)            (None, 6, 6, 256)         295168    \n",
      "_________________________________________________________________\n",
      "max_pooling2d_4 (MaxPooling2 (None, 3, 3, 256)         0         \n",
      "_________________________________________________________________\n",
      "dropout_1 (Dropout)          (None, 3, 3, 256)         0         \n",
      "_________________________________________________________________\n",
      "conv2d_5 (Conv2D)            (None, 3, 3, 128)         295040    \n",
      "_________________________________________________________________\n",
      "max_pooling2d_5 (MaxPooling2 (None, 1, 1, 128)         0         \n",
      "_________________________________________________________________\n",
      "dropout_2 (Dropout)          (None, 1, 1, 128)         0         \n",
      "_________________________________________________________________\n",
      "flatten_1 (Flatten)          (None, 128)               0         \n",
      "_________________________________________________________________\n",
      "dense_1 (Dense)              (None, 64)                8256      \n",
      "_________________________________________________________________\n",
      "dense_2 (Dense)              (None, 1)                 65        \n",
      "=================================================================\n",
      "Total params: 691,777\n",
      "Trainable params: 691,777\n",
      "Non-trainable params: 0\n",
      "_________________________________________________________________\n"
     ]
    }
   ],
   "source": [
    "classifier.summary()"
   ]
  },
  {
   "cell_type": "code",
   "execution_count": 8,
   "metadata": {},
   "outputs": [
    {
     "name": "stdout",
     "output_type": "stream",
     "text": [
      "Train on 1500 samples, validate on 100 samples\n",
      "Epoch 1/50\n",
      "1500/1500 [==============================] - 5s 3ms/step - loss: 0.6554 - accuracy: 0.6607 - val_loss: 0.6730 - val_accuracy: 0.6200\n",
      "Epoch 2/50\n",
      "1500/1500 [==============================] - 1s 766us/step - loss: 0.6496 - accuracy: 0.6633 - val_loss: 0.6687 - val_accuracy: 0.6200\n",
      "Epoch 3/50\n",
      "1500/1500 [==============================] - 1s 767us/step - loss: 0.6488 - accuracy: 0.6633 - val_loss: 0.6708 - val_accuracy: 0.6200\n",
      "Epoch 4/50\n",
      "1500/1500 [==============================] - 1s 764us/step - loss: 0.6462 - accuracy: 0.6633 - val_loss: 0.6647 - val_accuracy: 0.6200\n",
      "Epoch 5/50\n",
      "1500/1500 [==============================] - 1s 778us/step - loss: 0.6410 - accuracy: 0.6633 - val_loss: 0.6626 - val_accuracy: 0.6200\n",
      "Epoch 6/50\n",
      "1500/1500 [==============================] - 1s 754us/step - loss: 0.6387 - accuracy: 0.6633 - val_loss: 0.6592 - val_accuracy: 0.6200\n",
      "Epoch 7/50\n",
      "1500/1500 [==============================] - 1s 758us/step - loss: 0.6293 - accuracy: 0.6633 - val_loss: 0.6455 - val_accuracy: 0.6200\n",
      "Epoch 8/50\n",
      "1500/1500 [==============================] - 1s 752us/step - loss: 0.6315 - accuracy: 0.6633 - val_loss: 0.6357 - val_accuracy: 0.6200\n",
      "Epoch 9/50\n",
      "1500/1500 [==============================] - 1s 755us/step - loss: 0.6142 - accuracy: 0.6633 - val_loss: 0.5965 - val_accuracy: 0.6200\n",
      "Epoch 10/50\n",
      "1500/1500 [==============================] - 1s 759us/step - loss: 0.5986 - accuracy: 0.6693 - val_loss: 0.5947 - val_accuracy: 0.6900\n",
      "Epoch 11/50\n",
      "1500/1500 [==============================] - 1s 757us/step - loss: 0.5964 - accuracy: 0.6760 - val_loss: 0.5815 - val_accuracy: 0.6900\n",
      "Epoch 12/50\n",
      "1500/1500 [==============================] - 1s 759us/step - loss: 0.5465 - accuracy: 0.7113 - val_loss: 0.5160 - val_accuracy: 0.7600\n",
      "Epoch 13/50\n",
      "1500/1500 [==============================] - 1s 755us/step - loss: 0.5108 - accuracy: 0.7633 - val_loss: 0.4567 - val_accuracy: 0.7900\n",
      "Epoch 14/50\n",
      "1500/1500 [==============================] - 1s 778us/step - loss: 0.5001 - accuracy: 0.7620 - val_loss: 0.4968 - val_accuracy: 0.7100\n",
      "Epoch 15/50\n",
      "1500/1500 [==============================] - 1s 752us/step - loss: 0.4943 - accuracy: 0.7580 - val_loss: 0.4656 - val_accuracy: 0.7300\n",
      "Epoch 16/50\n",
      "1500/1500 [==============================] - 1s 755us/step - loss: 0.4440 - accuracy: 0.7847 - val_loss: 0.4610 - val_accuracy: 0.7400\n",
      "Epoch 17/50\n",
      "1500/1500 [==============================] - 1s 749us/step - loss: 0.4493 - accuracy: 0.7933 - val_loss: 0.3890 - val_accuracy: 0.8100\n",
      "Epoch 18/50\n",
      "1500/1500 [==============================] - 1s 770us/step - loss: 0.5085 - accuracy: 0.7687 - val_loss: 0.4905 - val_accuracy: 0.7700\n",
      "Epoch 19/50\n",
      "1500/1500 [==============================] - 1s 760us/step - loss: 0.4583 - accuracy: 0.8033 - val_loss: 0.3926 - val_accuracy: 0.7900\n",
      "Epoch 20/50\n",
      "1500/1500 [==============================] - 1s 764us/step - loss: 0.4493 - accuracy: 0.7873 - val_loss: 0.4200 - val_accuracy: 0.7800\n",
      "Epoch 21/50\n",
      "1500/1500 [==============================] - 1s 767us/step - loss: 0.4230 - accuracy: 0.8020 - val_loss: 0.4122 - val_accuracy: 0.8100\n",
      "Epoch 22/50\n",
      "1500/1500 [==============================] - 1s 783us/step - loss: 0.3821 - accuracy: 0.8327 - val_loss: 0.3265 - val_accuracy: 0.8600\n",
      "Epoch 23/50\n",
      "1500/1500 [==============================] - 1s 764us/step - loss: 0.3478 - accuracy: 0.8520 - val_loss: 0.2832 - val_accuracy: 0.8500\n",
      "Epoch 24/50\n",
      "1500/1500 [==============================] - 1s 764us/step - loss: 0.2764 - accuracy: 0.8827 - val_loss: 0.4365 - val_accuracy: 0.8400\n",
      "Epoch 25/50\n",
      "1500/1500 [==============================] - 1s 788us/step - loss: 0.3276 - accuracy: 0.8600 - val_loss: 0.2597 - val_accuracy: 0.9100\n",
      "Epoch 26/50\n",
      "1500/1500 [==============================] - 1s 792us/step - loss: 0.3142 - accuracy: 0.8667 - val_loss: 0.1921 - val_accuracy: 0.9200\n",
      "Epoch 27/50\n",
      "1500/1500 [==============================] - 1s 790us/step - loss: 0.2341 - accuracy: 0.9100 - val_loss: 0.2531 - val_accuracy: 0.8800\n",
      "Epoch 28/50\n",
      "1500/1500 [==============================] - 1s 778us/step - loss: 0.2585 - accuracy: 0.8873 - val_loss: 0.2023 - val_accuracy: 0.9000\n",
      "Epoch 29/50\n",
      "1500/1500 [==============================] - 1s 756us/step - loss: 0.1654 - accuracy: 0.9313 - val_loss: 0.1257 - val_accuracy: 0.9500\n",
      "Epoch 30/50\n",
      "1500/1500 [==============================] - 1s 775us/step - loss: 0.1273 - accuracy: 0.9573 - val_loss: 0.0471 - val_accuracy: 0.9900\n",
      "Epoch 31/50\n",
      "1500/1500 [==============================] - 1s 783us/step - loss: 0.1090 - accuracy: 0.9633 - val_loss: 0.0484 - val_accuracy: 0.9900\n",
      "Epoch 32/50\n",
      "1500/1500 [==============================] - 1s 781us/step - loss: 0.0782 - accuracy: 0.9773 - val_loss: 0.0163 - val_accuracy: 1.0000\n",
      "Epoch 33/50\n",
      "1500/1500 [==============================] - 1s 781us/step - loss: 0.0984 - accuracy: 0.9633 - val_loss: 0.1228 - val_accuracy: 0.9500\n",
      "Epoch 34/50\n",
      "1500/1500 [==============================] - 1s 780us/step - loss: 0.1786 - accuracy: 0.9227 - val_loss: 0.0664 - val_accuracy: 0.9700\n",
      "Epoch 35/50\n",
      "1500/1500 [==============================] - 1s 784us/step - loss: 0.0914 - accuracy: 0.9700 - val_loss: 0.0307 - val_accuracy: 0.9900\n",
      "Epoch 36/50\n",
      "1500/1500 [==============================] - 1s 797us/step - loss: 0.0678 - accuracy: 0.9800 - val_loss: 0.0105 - val_accuracy: 1.0000\n",
      "Epoch 37/50\n",
      "1500/1500 [==============================] - 1s 787us/step - loss: 0.0415 - accuracy: 0.9867 - val_loss: 0.0054 - val_accuracy: 1.0000\n",
      "Epoch 38/50\n",
      "1500/1500 [==============================] - 1s 792us/step - loss: 0.0471 - accuracy: 0.9860 - val_loss: 0.0091 - val_accuracy: 1.0000\n",
      "Epoch 39/50\n",
      "1500/1500 [==============================] - 1s 786us/step - loss: 0.0199 - accuracy: 0.9973 - val_loss: 0.0020 - val_accuracy: 1.0000\n",
      "Epoch 40/50\n",
      "1500/1500 [==============================] - 1s 795us/step - loss: 0.0157 - accuracy: 0.9953 - val_loss: 8.9266e-04 - val_accuracy: 1.0000\n",
      "Epoch 41/50\n",
      "1500/1500 [==============================] - 1s 810us/step - loss: 0.0321 - accuracy: 0.9893 - val_loss: 0.0020 - val_accuracy: 1.0000\n",
      "Epoch 42/50\n",
      "1500/1500 [==============================] - 1s 823us/step - loss: 0.0429 - accuracy: 0.9867 - val_loss: 0.0024 - val_accuracy: 1.0000\n",
      "Epoch 43/50\n",
      "1500/1500 [==============================] - 1s 795us/step - loss: 0.0135 - accuracy: 0.9987 - val_loss: 9.7945e-04 - val_accuracy: 1.0000\n",
      "Epoch 44/50\n",
      "1500/1500 [==============================] - 1s 797us/step - loss: 0.0122 - accuracy: 0.9960 - val_loss: 0.0017 - val_accuracy: 1.0000\n",
      "Epoch 45/50\n",
      "1500/1500 [==============================] - 1s 803us/step - loss: 0.0086 - accuracy: 0.9980 - val_loss: 4.2637e-04 - val_accuracy: 1.0000\n",
      "Epoch 46/50\n",
      "1500/1500 [==============================] - 1s 805us/step - loss: 0.0110 - accuracy: 0.9933 - val_loss: 4.1438e-04 - val_accuracy: 1.0000\n",
      "Epoch 47/50\n",
      "1500/1500 [==============================] - 1s 804us/step - loss: 0.0052 - accuracy: 0.9987 - val_loss: 7.5151e-04 - val_accuracy: 1.0000\n",
      "Epoch 48/50\n",
      "1500/1500 [==============================] - 1s 802us/step - loss: 0.0178 - accuracy: 0.9940 - val_loss: 0.0012 - val_accuracy: 1.0000\n",
      "Epoch 49/50\n",
      "1500/1500 [==============================] - 1s 804us/step - loss: 0.0242 - accuracy: 0.9913 - val_loss: 9.4169e-04 - val_accuracy: 1.0000\n",
      "Epoch 50/50\n",
      "1500/1500 [==============================] - 1s 824us/step - loss: 0.0255 - accuracy: 0.9900 - val_loss: 0.0094 - val_accuracy: 1.0000\n"
     ]
    }
   ],
   "source": [
    "history4 = classifier.fit(\n",
    "    data, \n",
    "    y_binary,\n",
    "    batch_size=100,\n",
    "    epochs=50,\n",
    "    verbose=1,\n",
    "    validation_data=(validation_data, validation_label))"
   ]
  },
  {
   "cell_type": "code",
   "execution_count": 9,
   "metadata": {},
   "outputs": [
    {
     "name": "stdout",
     "output_type": "stream",
     "text": [
      "Epoch 1/150\n",
      "15/15 [==============================] - 4s 294ms/step - loss: 0.7612 - accuracy: 0.6913 - val_loss: 0.6424 - val_accuracy: 0.6200\n",
      "Epoch 2/150\n",
      "15/15 [==============================] - 5s 301ms/step - loss: 0.6144 - accuracy: 0.6547 - val_loss: 0.6615 - val_accuracy: 0.6100\n",
      "Epoch 3/150\n",
      "15/15 [==============================] - 5s 317ms/step - loss: 0.6169 - accuracy: 0.6693 - val_loss: 0.5902 - val_accuracy: 0.6200\n",
      "Epoch 4/150\n",
      "15/15 [==============================] - 5s 303ms/step - loss: 0.5667 - accuracy: 0.6973 - val_loss: 0.4857 - val_accuracy: 0.7600\n",
      "Epoch 5/150\n",
      "15/15 [==============================] - 5s 322ms/step - loss: 0.5005 - accuracy: 0.7693 - val_loss: 0.4624 - val_accuracy: 0.8100\n",
      "Epoch 6/150\n",
      "15/15 [==============================] - 6s 370ms/step - loss: 0.4998 - accuracy: 0.7813 - val_loss: 0.4470 - val_accuracy: 0.8000\n",
      "Epoch 7/150\n",
      "15/15 [==============================] - 5s 307ms/step - loss: 0.4389 - accuracy: 0.7947 - val_loss: 0.4131 - val_accuracy: 0.8200\n",
      "Epoch 8/150\n",
      "15/15 [==============================] - 5s 310ms/step - loss: 0.3947 - accuracy: 0.8380 - val_loss: 0.3454 - val_accuracy: 0.8500\n",
      "Epoch 9/150\n",
      "15/15 [==============================] - 4s 297ms/step - loss: 0.3636 - accuracy: 0.8507 - val_loss: 0.3209 - val_accuracy: 0.9000\n",
      "Epoch 10/150\n",
      "15/15 [==============================] - 4s 286ms/step - loss: 0.3687 - accuracy: 0.8600 - val_loss: 0.3611 - val_accuracy: 0.8200\n",
      "Epoch 11/150\n",
      "15/15 [==============================] - 4s 286ms/step - loss: 0.4026 - accuracy: 0.8200 - val_loss: 0.3722 - val_accuracy: 0.8800\n",
      "Epoch 12/150\n",
      "15/15 [==============================] - 5s 305ms/step - loss: 0.3462 - accuracy: 0.8653 - val_loss: 0.4077 - val_accuracy: 0.8400\n",
      "Epoch 13/150\n",
      "15/15 [==============================] - 4s 289ms/step - loss: 0.2971 - accuracy: 0.8913 - val_loss: 0.2409 - val_accuracy: 0.9100\n",
      "Epoch 14/150\n",
      "15/15 [==============================] - 4s 288ms/step - loss: 0.3155 - accuracy: 0.8680 - val_loss: 0.2212 - val_accuracy: 0.9200\n",
      "Epoch 15/150\n",
      "15/15 [==============================] - 8s 521ms/step - loss: 0.2832 - accuracy: 0.8913 - val_loss: 0.4764 - val_accuracy: 0.7900\n",
      "Epoch 16/150\n",
      "15/15 [==============================] - 5s 323ms/step - loss: 0.3681 - accuracy: 0.8573 - val_loss: 0.3472 - val_accuracy: 0.8600\n",
      "Epoch 17/150\n",
      "15/15 [==============================] - 5s 340ms/step - loss: 0.3466 - accuracy: 0.8673 - val_loss: 0.3070 - val_accuracy: 0.8700\n",
      "Epoch 18/150\n",
      "15/15 [==============================] - 7s 486ms/step - loss: 0.2651 - accuracy: 0.8933 - val_loss: 0.2009 - val_accuracy: 0.9100\n",
      "Epoch 19/150\n",
      "15/15 [==============================] - 6s 419ms/step - loss: 0.2534 - accuracy: 0.9053 - val_loss: 0.2747 - val_accuracy: 0.9000\n",
      "Epoch 20/150\n",
      "15/15 [==============================] - 7s 436ms/step - loss: 0.2462 - accuracy: 0.9073 - val_loss: 0.1550 - val_accuracy: 0.9500\n",
      "Epoch 21/150\n",
      "15/15 [==============================] - 4s 285ms/step - loss: 0.2341 - accuracy: 0.9113 - val_loss: 0.2686 - val_accuracy: 0.8900\n",
      "Epoch 22/150\n",
      "15/15 [==============================] - 4s 292ms/step - loss: 0.2298 - accuracy: 0.9053 - val_loss: 0.2495 - val_accuracy: 0.8800\n",
      "Epoch 23/150\n",
      "15/15 [==============================] - 5s 307ms/step - loss: 0.2368 - accuracy: 0.9120 - val_loss: 0.2439 - val_accuracy: 0.8800\n",
      "Epoch 24/150\n",
      "15/15 [==============================] - 5s 306ms/step - loss: 0.2081 - accuracy: 0.9327 - val_loss: 0.1785 - val_accuracy: 0.9200\n",
      "Epoch 25/150\n",
      "15/15 [==============================] - 4s 296ms/step - loss: 0.2376 - accuracy: 0.9160 - val_loss: 0.2357 - val_accuracy: 0.9000\n",
      "Epoch 26/150\n",
      "15/15 [==============================] - 4s 285ms/step - loss: 0.2021 - accuracy: 0.9300 - val_loss: 0.2246 - val_accuracy: 0.9100\n",
      "Epoch 27/150\n",
      "15/15 [==============================] - 5s 321ms/step - loss: 0.2611 - accuracy: 0.8987 - val_loss: 0.1655 - val_accuracy: 0.9300\n",
      "Epoch 28/150\n",
      "15/15 [==============================] - 5s 354ms/step - loss: 0.2383 - accuracy: 0.9113 - val_loss: 0.1856 - val_accuracy: 0.9200\n",
      "Epoch 29/150\n",
      "15/15 [==============================] - 4s 298ms/step - loss: 0.2326 - accuracy: 0.9107 - val_loss: 0.3048 - val_accuracy: 0.8600\n",
      "Epoch 30/150\n",
      "15/15 [==============================] - 4s 288ms/step - loss: 0.2290 - accuracy: 0.9193 - val_loss: 0.1905 - val_accuracy: 0.9300\n",
      "Epoch 31/150\n",
      "15/15 [==============================] - 5s 311ms/step - loss: 0.1999 - accuracy: 0.9253 - val_loss: 0.1390 - val_accuracy: 0.9700\n",
      "Epoch 32/150\n",
      "15/15 [==============================] - 4s 295ms/step - loss: 0.2099 - accuracy: 0.9240 - val_loss: 0.1354 - val_accuracy: 0.9600\n",
      "Epoch 33/150\n",
      "15/15 [==============================] - 4s 295ms/step - loss: 0.2066 - accuracy: 0.9273 - val_loss: 0.2479 - val_accuracy: 0.9100\n",
      "Epoch 34/150\n",
      "15/15 [==============================] - 5s 303ms/step - loss: 0.2158 - accuracy: 0.9233 - val_loss: 0.2215 - val_accuracy: 0.8900\n",
      "Epoch 35/150\n",
      "15/15 [==============================] - 5s 305ms/step - loss: 0.2205 - accuracy: 0.9127 - val_loss: 0.1667 - val_accuracy: 0.9100\n",
      "Epoch 36/150\n",
      "15/15 [==============================] - 5s 305ms/step - loss: 0.1935 - accuracy: 0.9267 - val_loss: 0.1436 - val_accuracy: 0.9500\n",
      "Epoch 37/150\n",
      "15/15 [==============================] - 4s 286ms/step - loss: 0.1792 - accuracy: 0.9433 - val_loss: 0.1335 - val_accuracy: 0.9600\n",
      "Epoch 38/150\n",
      "15/15 [==============================] - 5s 316ms/step - loss: 0.1602 - accuracy: 0.9393 - val_loss: 0.1671 - val_accuracy: 0.9400\n",
      "Epoch 39/150\n",
      "15/15 [==============================] - 4s 291ms/step - loss: 0.1883 - accuracy: 0.9367 - val_loss: 0.1184 - val_accuracy: 0.9600\n",
      "Epoch 40/150\n",
      "15/15 [==============================] - 4s 290ms/step - loss: 0.1639 - accuracy: 0.9487 - val_loss: 0.1644 - val_accuracy: 0.9300\n",
      "Epoch 41/150\n",
      "15/15 [==============================] - 4s 296ms/step - loss: 0.1657 - accuracy: 0.9420 - val_loss: 0.0936 - val_accuracy: 0.9700\n",
      "Epoch 42/150\n",
      "15/15 [==============================] - 5s 304ms/step - loss: 0.1623 - accuracy: 0.9487 - val_loss: 0.1810 - val_accuracy: 0.9200\n",
      "Epoch 43/150\n",
      "15/15 [==============================] - 4s 288ms/step - loss: 0.2454 - accuracy: 0.9100 - val_loss: 0.1576 - val_accuracy: 0.9400\n",
      "Epoch 44/150\n",
      "15/15 [==============================] - 4s 293ms/step - loss: 0.1770 - accuracy: 0.9400 - val_loss: 0.1440 - val_accuracy: 0.9500\n",
      "Epoch 45/150\n",
      "15/15 [==============================] - 5s 307ms/step - loss: 0.1824 - accuracy: 0.9287 - val_loss: 0.1487 - val_accuracy: 0.9400\n",
      "Epoch 46/150\n",
      "15/15 [==============================] - 4s 288ms/step - loss: 0.1719 - accuracy: 0.9407 - val_loss: 0.2225 - val_accuracy: 0.9300\n",
      "Epoch 47/150\n",
      "15/15 [==============================] - 4s 293ms/step - loss: 0.2143 - accuracy: 0.9193 - val_loss: 0.1618 - val_accuracy: 0.9300\n",
      "Epoch 48/150\n",
      "15/15 [==============================] - 4s 287ms/step - loss: 0.1742 - accuracy: 0.9373 - val_loss: 0.1268 - val_accuracy: 0.9600\n",
      "Epoch 49/150\n",
      "15/15 [==============================] - 5s 308ms/step - loss: 0.1608 - accuracy: 0.9473 - val_loss: 0.1170 - val_accuracy: 0.9500\n",
      "Epoch 50/150\n",
      "15/15 [==============================] - 4s 290ms/step - loss: 0.1466 - accuracy: 0.9467 - val_loss: 0.1467 - val_accuracy: 0.9500\n",
      "Epoch 51/150\n",
      "15/15 [==============================] - 5s 303ms/step - loss: 0.1546 - accuracy: 0.9447 - val_loss: 0.0807 - val_accuracy: 0.9600\n",
      "Epoch 52/150\n",
      "15/15 [==============================] - 5s 335ms/step - loss: 0.1408 - accuracy: 0.9553 - val_loss: 0.1213 - val_accuracy: 0.9600\n",
      "Epoch 53/150\n",
      "15/15 [==============================] - 5s 332ms/step - loss: 0.1415 - accuracy: 0.9500 - val_loss: 0.1276 - val_accuracy: 0.9500\n",
      "Epoch 54/150\n",
      "15/15 [==============================] - 4s 298ms/step - loss: 0.1791 - accuracy: 0.9360 - val_loss: 0.1167 - val_accuracy: 0.9700\n",
      "Epoch 55/150\n",
      "15/15 [==============================] - 4s 291ms/step - loss: 0.1769 - accuracy: 0.9380 - val_loss: 0.1375 - val_accuracy: 0.9500\n",
      "Epoch 56/150\n",
      "15/15 [==============================] - 5s 319ms/step - loss: 0.1494 - accuracy: 0.9527 - val_loss: 0.1249 - val_accuracy: 0.9600\n",
      "Epoch 57/150\n",
      "15/15 [==============================] - 4s 289ms/step - loss: 0.1237 - accuracy: 0.9567 - val_loss: 0.0727 - val_accuracy: 0.9700\n",
      "Epoch 58/150\n",
      "15/15 [==============================] - 5s 316ms/step - loss: 0.1381 - accuracy: 0.9493 - val_loss: 0.1689 - val_accuracy: 0.9300\n",
      "Epoch 59/150\n",
      "15/15 [==============================] - 5s 364ms/step - loss: 0.2033 - accuracy: 0.9267 - val_loss: 0.1738 - val_accuracy: 0.9500\n",
      "Epoch 60/150\n",
      "15/15 [==============================] - 4s 291ms/step - loss: 0.1680 - accuracy: 0.9413 - val_loss: 0.1020 - val_accuracy: 0.9600\n",
      "Epoch 61/150\n",
      "15/15 [==============================] - 4s 288ms/step - loss: 0.1446 - accuracy: 0.9453 - val_loss: 0.4846 - val_accuracy: 0.8600\n",
      "Epoch 62/150\n",
      "15/15 [==============================] - 4s 294ms/step - loss: 0.2482 - accuracy: 0.9033 - val_loss: 0.1948 - val_accuracy: 0.9000\n",
      "Epoch 63/150\n",
      "15/15 [==============================] - 5s 327ms/step - loss: 0.1949 - accuracy: 0.9260 - val_loss: 0.1017 - val_accuracy: 0.9900\n",
      "Epoch 64/150\n",
      "15/15 [==============================] - 4s 290ms/step - loss: 0.1572 - accuracy: 0.9373 - val_loss: 0.0983 - val_accuracy: 0.9800\n",
      "Epoch 65/150\n",
      "15/15 [==============================] - 4s 292ms/step - loss: 0.1492 - accuracy: 0.9473 - val_loss: 0.1008 - val_accuracy: 0.9500\n",
      "Epoch 66/150\n",
      "15/15 [==============================] - 5s 307ms/step - loss: 0.1341 - accuracy: 0.9513 - val_loss: 0.0984 - val_accuracy: 0.9500\n",
      "Epoch 67/150\n",
      "15/15 [==============================] - 4s 285ms/step - loss: 0.1307 - accuracy: 0.9540 - val_loss: 0.1004 - val_accuracy: 0.9600\n",
      "Epoch 68/150\n",
      "15/15 [==============================] - 4s 289ms/step - loss: 0.1122 - accuracy: 0.9620 - val_loss: 0.0582 - val_accuracy: 1.0000\n",
      "Epoch 69/150\n",
      "15/15 [==============================] - 4s 288ms/step - loss: 0.1152 - accuracy: 0.9627 - val_loss: 0.0622 - val_accuracy: 0.9800\n",
      "Epoch 70/150\n",
      "15/15 [==============================] - 5s 342ms/step - loss: 0.1252 - accuracy: 0.9607 - val_loss: 0.1651 - val_accuracy: 0.9300\n",
      "Epoch 71/150\n",
      "15/15 [==============================] - 5s 354ms/step - loss: 0.1024 - accuracy: 0.9680 - val_loss: 0.0850 - val_accuracy: 0.9700\n",
      "Epoch 72/150\n",
      "15/15 [==============================] - 5s 310ms/step - loss: 0.1071 - accuracy: 0.9613 - val_loss: 0.0717 - val_accuracy: 0.9700\n",
      "Epoch 73/150\n",
      "15/15 [==============================] - 5s 313ms/step - loss: 0.1108 - accuracy: 0.9620 - val_loss: 0.0513 - val_accuracy: 1.0000\n",
      "Epoch 74/150\n",
      "15/15 [==============================] - 4s 297ms/step - loss: 0.1299 - accuracy: 0.9527 - val_loss: 0.1005 - val_accuracy: 0.9700\n",
      "Epoch 75/150\n",
      "15/15 [==============================] - 4s 296ms/step - loss: 0.1117 - accuracy: 0.9640 - val_loss: 0.0820 - val_accuracy: 0.9700\n",
      "Epoch 76/150\n",
      "15/15 [==============================] - 5s 361ms/step - loss: 0.1247 - accuracy: 0.9580 - val_loss: 0.0806 - val_accuracy: 0.9700\n",
      "Epoch 77/150\n",
      "15/15 [==============================] - 5s 341ms/step - loss: 0.1562 - accuracy: 0.9380 - val_loss: 0.1648 - val_accuracy: 0.9300\n",
      "Epoch 78/150\n",
      "15/15 [==============================] - 5s 314ms/step - loss: 0.1305 - accuracy: 0.9560 - val_loss: 0.1342 - val_accuracy: 0.9600\n",
      "Epoch 79/150\n",
      "15/15 [==============================] - 5s 317ms/step - loss: 0.1075 - accuracy: 0.9613 - val_loss: 0.0839 - val_accuracy: 0.9600\n",
      "Epoch 80/150\n",
      "15/15 [==============================] - 5s 323ms/step - loss: 0.1057 - accuracy: 0.9647 - val_loss: 0.0945 - val_accuracy: 0.9600\n",
      "Epoch 81/150\n",
      "15/15 [==============================] - 4s 298ms/step - loss: 0.1554 - accuracy: 0.9413 - val_loss: 0.1707 - val_accuracy: 0.9700\n",
      "Epoch 82/150\n",
      "15/15 [==============================] - 4s 285ms/step - loss: 0.1894 - accuracy: 0.9333 - val_loss: 0.1145 - val_accuracy: 0.9600\n",
      "Epoch 83/150\n",
      "15/15 [==============================] - 5s 312ms/step - loss: 0.1119 - accuracy: 0.9600 - val_loss: 0.1195 - val_accuracy: 0.9600\n",
      "Epoch 84/150\n",
      "15/15 [==============================] - 4s 295ms/step - loss: 0.1228 - accuracy: 0.9580 - val_loss: 0.0582 - val_accuracy: 0.9900\n",
      "Epoch 85/150\n",
      "15/15 [==============================] - 4s 287ms/step - loss: 0.1130 - accuracy: 0.9613 - val_loss: 0.0683 - val_accuracy: 0.9800\n",
      "Epoch 86/150\n",
      "15/15 [==============================] - 4s 289ms/step - loss: 0.1085 - accuracy: 0.9720 - val_loss: 0.1201 - val_accuracy: 0.9500\n",
      "Epoch 87/150\n",
      "15/15 [==============================] - 5s 325ms/step - loss: 0.1085 - accuracy: 0.9573 - val_loss: 0.0731 - val_accuracy: 0.9700\n",
      "Epoch 88/150\n",
      "15/15 [==============================] - 4s 292ms/step - loss: 0.1149 - accuracy: 0.9567 - val_loss: 0.0862 - val_accuracy: 0.9800\n",
      "Epoch 89/150\n",
      "15/15 [==============================] - 4s 293ms/step - loss: 0.1754 - accuracy: 0.9333 - val_loss: 0.1219 - val_accuracy: 0.9400\n",
      "Epoch 90/150\n",
      "15/15 [==============================] - 5s 316ms/step - loss: 0.1531 - accuracy: 0.9427 - val_loss: 0.0980 - val_accuracy: 0.9600\n",
      "Epoch 91/150\n",
      "15/15 [==============================] - 4s 291ms/step - loss: 0.1483 - accuracy: 0.9480 - val_loss: 0.1252 - val_accuracy: 0.9700\n",
      "Epoch 92/150\n",
      "15/15 [==============================] - 4s 296ms/step - loss: 0.1152 - accuracy: 0.9613 - val_loss: 0.0920 - val_accuracy: 0.9500\n",
      "Epoch 93/150\n",
      "15/15 [==============================] - 4s 291ms/step - loss: 0.1147 - accuracy: 0.9620 - val_loss: 0.1231 - val_accuracy: 0.9500\n",
      "Epoch 94/150\n",
      "15/15 [==============================] - 5s 316ms/step - loss: 0.1153 - accuracy: 0.9607 - val_loss: 0.0554 - val_accuracy: 0.9800\n",
      "Epoch 95/150\n",
      "15/15 [==============================] - 4s 298ms/step - loss: 0.1065 - accuracy: 0.9647 - val_loss: 0.0676 - val_accuracy: 0.9700\n",
      "Epoch 96/150\n",
      "15/15 [==============================] - 4s 287ms/step - loss: 0.1050 - accuracy: 0.9620 - val_loss: 0.0419 - val_accuracy: 0.9800\n",
      "Epoch 97/150\n",
      "15/15 [==============================] - 5s 305ms/step - loss: 0.0879 - accuracy: 0.9700 - val_loss: 0.0515 - val_accuracy: 0.9800\n",
      "Epoch 98/150\n",
      "15/15 [==============================] - 4s 298ms/step - loss: 0.1024 - accuracy: 0.9653 - val_loss: 0.1395 - val_accuracy: 0.9400\n",
      "Epoch 99/150\n",
      "15/15 [==============================] - 4s 294ms/step - loss: 0.1072 - accuracy: 0.9607 - val_loss: 0.0620 - val_accuracy: 0.9800\n",
      "Epoch 100/150\n",
      "15/15 [==============================] - 4s 289ms/step - loss: 0.0956 - accuracy: 0.9667 - val_loss: 0.0686 - val_accuracy: 0.9800\n",
      "Epoch 101/150\n",
      "15/15 [==============================] - 5s 313ms/step - loss: 0.0850 - accuracy: 0.9707 - val_loss: 0.0608 - val_accuracy: 0.9900\n",
      "Epoch 102/150\n",
      "15/15 [==============================] - 4s 291ms/step - loss: 0.1018 - accuracy: 0.9640 - val_loss: 0.0821 - val_accuracy: 0.9400\n",
      "Epoch 103/150\n",
      "15/15 [==============================] - 4s 281ms/step - loss: 0.0993 - accuracy: 0.9673 - val_loss: 0.0598 - val_accuracy: 0.9900\n",
      "Epoch 104/150\n",
      "15/15 [==============================] - 4s 299ms/step - loss: 0.0961 - accuracy: 0.9647 - val_loss: 0.0637 - val_accuracy: 0.9800\n",
      "Epoch 105/150\n",
      "15/15 [==============================] - 5s 316ms/step - loss: 0.0830 - accuracy: 0.9753 - val_loss: 0.0449 - val_accuracy: 0.9700\n",
      "Epoch 106/150\n",
      "15/15 [==============================] - 4s 291ms/step - loss: 0.0997 - accuracy: 0.9633 - val_loss: 0.0887 - val_accuracy: 0.9600\n",
      "Epoch 107/150\n",
      "15/15 [==============================] - 4s 295ms/step - loss: 0.1307 - accuracy: 0.9493 - val_loss: 0.1160 - val_accuracy: 0.9400\n",
      "Epoch 108/150\n",
      "15/15 [==============================] - 5s 311ms/step - loss: 0.1091 - accuracy: 0.9580 - val_loss: 0.1357 - val_accuracy: 0.9400\n",
      "Epoch 109/150\n",
      "15/15 [==============================] - 4s 288ms/step - loss: 0.1121 - accuracy: 0.9587 - val_loss: 0.0804 - val_accuracy: 0.9800\n",
      "Epoch 110/150\n",
      "15/15 [==============================] - 4s 299ms/step - loss: 0.1077 - accuracy: 0.9640 - val_loss: 0.0440 - val_accuracy: 0.9700\n",
      "Epoch 111/150\n",
      "15/15 [==============================] - 4s 290ms/step - loss: 0.1138 - accuracy: 0.9620 - val_loss: 0.0521 - val_accuracy: 1.0000\n",
      "Epoch 112/150\n",
      "15/15 [==============================] - 5s 312ms/step - loss: 0.0975 - accuracy: 0.9660 - val_loss: 0.0475 - val_accuracy: 0.9800\n",
      "Epoch 113/150\n",
      "15/15 [==============================] - 4s 297ms/step - loss: 0.1119 - accuracy: 0.9587 - val_loss: 0.0580 - val_accuracy: 0.9800\n",
      "Epoch 114/150\n",
      "15/15 [==============================] - 4s 295ms/step - loss: 0.1309 - accuracy: 0.9460 - val_loss: 0.0778 - val_accuracy: 0.9700\n",
      "Epoch 115/150\n",
      "15/15 [==============================] - 5s 310ms/step - loss: 0.1024 - accuracy: 0.9667 - val_loss: 0.0640 - val_accuracy: 0.9700\n",
      "Epoch 116/150\n",
      "15/15 [==============================] - 4s 295ms/step - loss: 0.0942 - accuracy: 0.9680 - val_loss: 0.0724 - val_accuracy: 0.9500\n",
      "Epoch 117/150\n",
      "15/15 [==============================] - 4s 298ms/step - loss: 0.0840 - accuracy: 0.9700 - val_loss: 0.0522 - val_accuracy: 0.9900\n",
      "Epoch 118/150\n",
      "15/15 [==============================] - 4s 288ms/step - loss: 0.0868 - accuracy: 0.9753 - val_loss: 0.0375 - val_accuracy: 0.9900\n",
      "Epoch 119/150\n",
      "15/15 [==============================] - 5s 316ms/step - loss: 0.0865 - accuracy: 0.9687 - val_loss: 0.0437 - val_accuracy: 0.9800\n",
      "Epoch 120/150\n",
      "15/15 [==============================] - 4s 292ms/step - loss: 0.0813 - accuracy: 0.9727 - val_loss: 0.0418 - val_accuracy: 0.9800\n",
      "Epoch 121/150\n",
      "15/15 [==============================] - 4s 288ms/step - loss: 0.0872 - accuracy: 0.9660 - val_loss: 0.0757 - val_accuracy: 0.9700\n",
      "Epoch 122/150\n",
      "15/15 [==============================] - 5s 308ms/step - loss: 0.0759 - accuracy: 0.9707 - val_loss: 0.0982 - val_accuracy: 0.9500\n",
      "Epoch 123/150\n",
      "15/15 [==============================] - 4s 299ms/step - loss: 0.0599 - accuracy: 0.9773 - val_loss: 0.0281 - val_accuracy: 0.9900\n",
      "Epoch 124/150\n",
      "15/15 [==============================] - 5s 324ms/step - loss: 0.0830 - accuracy: 0.9747 - val_loss: 0.0978 - val_accuracy: 0.9800\n",
      "Epoch 125/150\n",
      "15/15 [==============================] - 4s 298ms/step - loss: 0.0751 - accuracy: 0.9747 - val_loss: 0.0457 - val_accuracy: 0.9800\n",
      "Epoch 126/150\n",
      "15/15 [==============================] - 5s 312ms/step - loss: 0.0843 - accuracy: 0.9713 - val_loss: 0.0469 - val_accuracy: 0.9900\n",
      "Epoch 127/150\n",
      "15/15 [==============================] - 4s 290ms/step - loss: 0.0719 - accuracy: 0.9773 - val_loss: 0.0385 - val_accuracy: 1.0000\n",
      "Epoch 128/150\n",
      "15/15 [==============================] - 4s 294ms/step - loss: 0.0821 - accuracy: 0.9740 - val_loss: 0.0890 - val_accuracy: 0.9700\n",
      "Epoch 129/150\n",
      "15/15 [==============================] - 4s 300ms/step - loss: 0.0846 - accuracy: 0.9713 - val_loss: 0.2296 - val_accuracy: 0.9300\n",
      "Epoch 130/150\n",
      "15/15 [==============================] - 5s 306ms/step - loss: 0.0858 - accuracy: 0.9713 - val_loss: 0.0694 - val_accuracy: 0.9800\n",
      "Epoch 131/150\n",
      "15/15 [==============================] - 4s 297ms/step - loss: 0.0816 - accuracy: 0.9733 - val_loss: 0.0418 - val_accuracy: 0.9900\n",
      "Epoch 132/150\n",
      "15/15 [==============================] - 5s 330ms/step - loss: 0.0882 - accuracy: 0.9660 - val_loss: 0.0438 - val_accuracy: 0.9800\n",
      "Epoch 133/150\n",
      "15/15 [==============================] - 5s 326ms/step - loss: 0.0871 - accuracy: 0.9733 - val_loss: 0.0813 - val_accuracy: 0.9800\n",
      "Epoch 134/150\n",
      "15/15 [==============================] - 4s 298ms/step - loss: 0.0790 - accuracy: 0.9713 - val_loss: 0.0780 - val_accuracy: 0.9700\n",
      "Epoch 135/150\n",
      "15/15 [==============================] - 4s 293ms/step - loss: 0.0782 - accuracy: 0.9733 - val_loss: 0.0318 - val_accuracy: 0.9800\n",
      "Epoch 136/150\n",
      "15/15 [==============================] - 5s 307ms/step - loss: 0.0718 - accuracy: 0.9753 - val_loss: 0.0589 - val_accuracy: 0.9600\n",
      "Epoch 137/150\n",
      "15/15 [==============================] - 5s 308ms/step - loss: 0.0597 - accuracy: 0.9813 - val_loss: 0.0216 - val_accuracy: 1.0000\n",
      "Epoch 138/150\n",
      "15/15 [==============================] - 4s 292ms/step - loss: 0.0685 - accuracy: 0.9753 - val_loss: 0.1052 - val_accuracy: 0.9200\n",
      "Epoch 139/150\n",
      "15/15 [==============================] - 5s 300ms/step - loss: 0.2064 - accuracy: 0.9293 - val_loss: 0.1026 - val_accuracy: 0.9800\n",
      "Epoch 140/150\n",
      "15/15 [==============================] - 5s 315ms/step - loss: 0.1546 - accuracy: 0.9460 - val_loss: 0.0753 - val_accuracy: 0.9800\n",
      "Epoch 141/150\n",
      "15/15 [==============================] - 4s 293ms/step - loss: 0.1471 - accuracy: 0.9473 - val_loss: 0.0997 - val_accuracy: 0.9500\n",
      "Epoch 142/150\n",
      "15/15 [==============================] - 4s 292ms/step - loss: 0.1069 - accuracy: 0.9633 - val_loss: 0.0849 - val_accuracy: 0.9600\n",
      "Epoch 143/150\n",
      "15/15 [==============================] - 5s 303ms/step - loss: 0.1010 - accuracy: 0.9707 - val_loss: 0.0421 - val_accuracy: 0.9900\n",
      "Epoch 144/150\n",
      "15/15 [==============================] - 5s 301ms/step - loss: 0.0600 - accuracy: 0.9767 - val_loss: 0.0210 - val_accuracy: 1.0000\n",
      "Epoch 145/150\n",
      "15/15 [==============================] - 4s 290ms/step - loss: 0.0783 - accuracy: 0.9707 - val_loss: 0.0465 - val_accuracy: 0.9800\n",
      "Epoch 146/150\n",
      "15/15 [==============================] - 4s 297ms/step - loss: 0.0776 - accuracy: 0.9733 - val_loss: 0.0423 - val_accuracy: 0.9900\n",
      "Epoch 147/150\n",
      "15/15 [==============================] - 5s 310ms/step - loss: 0.0696 - accuracy: 0.9760 - val_loss: 0.0167 - val_accuracy: 1.0000\n",
      "Epoch 148/150\n",
      "15/15 [==============================] - 4s 289ms/step - loss: 0.0789 - accuracy: 0.9753 - val_loss: 0.0559 - val_accuracy: 0.9900\n",
      "Epoch 149/150\n",
      "15/15 [==============================] - 4s 292ms/step - loss: 0.0794 - accuracy: 0.9733 - val_loss: 0.0932 - val_accuracy: 0.9600\n",
      "Epoch 150/150\n",
      "15/15 [==============================] - 4s 293ms/step - loss: 0.0767 - accuracy: 0.9687 - val_loss: 0.1332 - val_accuracy: 0.9500\n"
     ]
    }
   ],
   "source": [
    "from keras.preprocessing.image import ImageDataGenerator\n",
    "gen = ImageDataGenerator(rotation_range=90, width_shift_range=0.08, shear_range=0.3,\n",
    "                               height_shift_range=0.08, zoom_range=0.08)\n",
    "\n",
    "batches = gen.flow(data, y_binary, batch_size=100)\n",
    "validation_batches = gen.flow(validation_data, validation_label, batch_size=100)\n",
    "\n",
    "history4 = classifier.fit_generator(batches, epochs=150, validation_data=validation_batches)"
   ]
  },
  {
   "cell_type": "code",
   "execution_count": 10,
   "metadata": {},
   "outputs": [],
   "source": [
    "import matplotlib.pyplot as plt\n",
    "%matplotlib inline\n",
    "from matplotlib.colors import ListedColormap\n",
    "import pandas\n",
    "import numpy\n",
    "import warnings\n",
    "warnings.filterwarnings(\"ignore\")\n",
    "import sklearn.metrics as metrics"
   ]
  },
  {
   "cell_type": "code",
   "execution_count": 11,
   "metadata": {},
   "outputs": [],
   "source": [
    "def plot_roc(labels, prediction_scores, title='ROC'):\n",
    "    fpr, tpr, _ = metrics.roc_curve(labels, prediction_scores, pos_label=1)\n",
    "    auc = metrics.roc_auc_score(labels, prediction_scores)\n",
    "    legend_string = 'AUC = {:0.3f}'.format(auc)\n",
    "       \n",
    "    plt.figure(figsize=(10,8))\n",
    "    plt.plot([0,1],[0,1],'--', color='gray', label='Chance')\n",
    "    plt.plot(fpr, tpr, label=legend_string, color = 'red')\n",
    "    plt.xlabel('False Positive Rate')\n",
    "    plt.ylabel('True Positive Rate')\n",
    "    plt.grid()\n",
    "    plt.axis('square')\n",
    "    plt.title(title)\n",
    "    plt.legend()\n",
    "    plt.tight_layout()"
   ]
  },
  {
   "cell_type": "code",
   "execution_count": 12,
   "metadata": {},
   "outputs": [],
   "source": [
    "r = classifier.predict(data)"
   ]
  },
  {
   "cell_type": "code",
   "execution_count": 13,
   "metadata": {},
   "outputs": [
    {
     "data": {
      "image/png": "[encoded data removed]",
      "text/plain": [
       "<Figure size 720x576 with 1 Axes>"
      ]
     },
     "metadata": {
      "needs_background": "light"
     },
     "output_type": "display_data"
    }
   ],
   "source": [
    "plot_roc(y_binary, r)"
   ]
  },
  {
   "cell_type": "code",
   "execution_count": 14,
   "metadata": {},
   "outputs": [
    {
     "data": {
      "text/plain": [
       "0.31125817"
      ]
     },
     "execution_count": 14,
     "metadata": {},
     "output_type": "execute_result"
    }
   ],
   "source": [
    "import numpy\n",
    "numpy.mean(r)"
   ]
  },
  {
   "cell_type": "code",
   "execution_count": 15,
   "metadata": {},
   "outputs": [
    {
     "data": {
      "text/plain": [
       "array([[1.7929992e-04],\n",
       "       [1.2487938e-03],\n",
       "       [9.3217587e-01],\n",
       "       ...,\n",
       "       [8.1225317e-06],\n",
       "       [3.2924474e-03],\n",
       "       [9.9809128e-01]], dtype=float32)"
      ]
     },
     "execution_count": 15,
     "metadata": {},
     "output_type": "execute_result"
    }
   ],
   "source": [
    "r"
   ]
  },
  {
   "cell_type": "code",
   "execution_count": 16,
   "metadata": {},
   "outputs": [
    {
     "data": {
      "text/plain": [
       "array([0, 0, 1, ..., 0, 0, 1], dtype=int64)"
      ]
     },
     "execution_count": 16,
     "metadata": {},
     "output_type": "execute_result"
    }
   ],
   "source": [
    "y_binary"
   ]
  },
  {
   "cell_type": "code",
   "execution_count": 17,
   "metadata": {},
   "outputs": [
    {
     "data": {
      "text/plain": [
       "0.33666666666666667"
      ]
     },
     "execution_count": 17,
     "metadata": {},
     "output_type": "execute_result"
    }
   ],
   "source": [
    "numpy.mean(y_binary)"
   ]
  },
  {
   "cell_type": "code",
   "execution_count": 18,
   "metadata": {},
   "outputs": [
    {
     "data": {
      "text/plain": [
       "0.025333333333333333"
      ]
     },
     "execution_count": 18,
     "metadata": {},
     "output_type": "execute_result"
    }
   ],
   "source": [
    "numpy.sum(numpy.abs((r>0.5).reshape((1500,)) - y_binary)) / 1500"
   ]
  },
  {
   "cell_type": "code",
   "execution_count": 19,
   "metadata": {},
   "outputs": [],
   "source": [
    "produce_submission = True # Switch this to True when you're ready to create a submission for Kaggle\n",
    "\n",
    "test_scores    = classifier.predict(test_data)\n",
    "test_scores = test_scores.reshape((test_scores.shape[0],))\n",
    "# Save the predictions to a CSV file for upload to Kaggle\n",
    "submission_file = pd.DataFrame({'id':    ids,\n",
    "                               'score':  test_scores})"
   ]
  },
  {
   "cell_type": "code",
   "execution_count": 20,
   "metadata": {},
   "outputs": [],
   "source": [
    "if produce_submission:\n",
    "    submission_file.to_csv('yyf_strides_cnn_5_layers.csv',\n",
    "                           columns=['id','score'],\n",
    "                           index=False)"
   ]
  },
  {
   "cell_type": "code",
   "execution_count": 21,
   "metadata": {},
   "outputs": [
    {
     "data": {
      "text/html": [
       "<div>\n",
       "<style scoped>\n",
       "    .dataframe tbody tr th:only-of-type {\n",
       "        vertical-align: middle;\n",
       "    }\n",
       "\n",
       "    .dataframe tbody tr th {\n",
       "        vertical-align: top;\n",
       "    }\n",
       "\n",
       "    .dataframe thead th {\n",
       "        text-align: right;\n",
       "    }\n",
       "</style>\n",
       "<table border=\"1\" class=\"dataframe\">\n",
       "  <thead>\n",
       "    <tr style=\"text-align: right;\">\n",
       "      <th></th>\n",
       "      <th>id</th>\n",
       "      <th>score</th>\n",
       "    </tr>\n",
       "  </thead>\n",
       "  <tbody>\n",
       "    <tr>\n",
       "      <th>0</th>\n",
       "      <td>1500</td>\n",
       "      <td>0.000597</td>\n",
       "    </tr>\n",
       "    <tr>\n",
       "      <th>1</th>\n",
       "      <td>1501</td>\n",
       "      <td>0.000044</td>\n",
       "    </tr>\n",
       "    <tr>\n",
       "      <th>2</th>\n",
       "      <td>1502</td>\n",
       "      <td>0.879288</td>\n",
       "    </tr>\n",
       "    <tr>\n",
       "      <th>3</th>\n",
       "      <td>1503</td>\n",
       "      <td>0.000242</td>\n",
       "    </tr>\n",
       "    <tr>\n",
       "      <th>4</th>\n",
       "      <td>1504</td>\n",
       "      <td>0.000143</td>\n",
       "    </tr>\n",
       "  </tbody>\n",
       "</table>\n",
       "</div>"
      ],
      "text/plain": [
       "     id     score\n",
       "0  1500  0.000597\n",
       "1  1501  0.000044\n",
       "2  1502  0.879288\n",
       "3  1503  0.000242\n",
       "4  1504  0.000143"
      ]
     },
     "execution_count": 21,
     "metadata": {},
     "output_type": "execute_result"
    }
   ],
   "source": [
    "submission_file.head()"
   ]
  },
  {
   "cell_type": "code",
   "execution_count": 22,
   "metadata": {},
   "outputs": [
    {
     "data": {
      "text/html": [
       "<div>\n",
       "<style scoped>\n",
       "    .dataframe tbody tr th:only-of-type {\n",
       "        vertical-align: middle;\n",
       "    }\n",
       "\n",
       "    .dataframe tbody tr th {\n",
       "        vertical-align: top;\n",
       "    }\n",
       "\n",
       "    .dataframe thead th {\n",
       "        text-align: right;\n",
       "    }\n",
       "</style>\n",
       "<table border=\"1\" class=\"dataframe\">\n",
       "  <thead>\n",
       "    <tr style=\"text-align: right;\">\n",
       "      <th></th>\n",
       "      <th>id</th>\n",
       "      <th>score</th>\n",
       "    </tr>\n",
       "  </thead>\n",
       "  <tbody>\n",
       "    <tr>\n",
       "      <th>423</th>\n",
       "      <td>1923</td>\n",
       "      <td>0.255201</td>\n",
       "    </tr>\n",
       "  </tbody>\n",
       "</table>\n",
       "</div>"
      ],
      "text/plain": [
       "       id     score\n",
       "423  1923  0.255201"
      ]
     },
     "execution_count": 22,
     "metadata": {},
     "output_type": "execute_result"
    }
   ],
   "source": [
    "submission_file[submission_file['id']==1923]"
   ]
  },
  {
   "cell_type": "code",
   "execution_count": 23,
   "metadata": {},
   "outputs": [],
   "source": [
    "npmat=submission_file.values"
   ]
  },
  {
   "cell_type": "code",
   "execution_count": 24,
   "metadata": {},
   "outputs": [
    {
     "data": {
      "text/plain": [
       "array([[1.92300000e+03, 2.55200714e-01]])"
      ]
     },
     "execution_count": 24,
     "metadata": {},
     "output_type": "execute_result"
    }
   ],
   "source": [
    "npmat[npmat[:,0]==1923,:]"
   ]
  },
  {
   "cell_type": "code",
   "execution_count": null,
   "metadata": {},
   "outputs": [],
   "source": []
  }
 ],
 "metadata": {
  "kernelspec": {
   "display_name": "Python 3",
   "language": "python",
   "name": "python3"
  },
  "language_info": {
   "codemirror_mode": {
    "name": "ipython",
    "version": 3
   },
   "file_extension": ".py",
   "mimetype": "text/x-python",
   "name": "python",
   "nbconvert_exporter": "python",
   "pygments_lexer": "ipython3",
   "version": "3.6.10"
  }
 },
 "nbformat": 4,
 "nbformat_minor": 4
}
