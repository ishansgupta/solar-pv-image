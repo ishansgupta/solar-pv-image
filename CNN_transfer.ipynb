{
 "cells": [
  {
   "cell_type": "code",
   "execution_count": 103,
   "metadata": {},
   "outputs": [],
   "source": [
    "from keras.models import Sequential\n",
    "from keras.layers import Convolution2D, BatchNormalization\n",
    "from keras.layers import MaxPooling2D\n",
    "from keras.layers import Flatten\n",
    "from keras.layers import Dense\n",
    "from keras.preprocessing.image import ImageDataGenerator \n",
    "from keras.optimizers import SGD\n",
    "import numpy as np\n",
    "import pandas as pd\n",
    "\n",
    "import matplotlib.pyplot as plt\n",
    "import matplotlib as mpl\n",
    "\n",
    "from sklearn.model_selection import StratifiedKFold\n",
    "from sklearn.neighbors import KNeighborsClassifier\n",
    "import sklearn.metrics as metrics\n",
    "import PIL\n",
    "\n",
    "import os\n",
    "\n",
    "import numpy as np\n",
    "\n",
    "import matplotlib.pyplot as plt"
   ]
  },
  {
   "cell_type": "code",
   "execution_count": 104,
   "metadata": {},
   "outputs": [],
   "source": [
    "# Parameters\n",
    "img_width = 101\n",
    "img_height = 101\n",
    "batch_size = 64"
   ]
  },
  {
   "cell_type": "code",
   "execution_count": 105,
   "metadata": {},
   "outputs": [],
   "source": [
    "import tensorflow as tf\n",
    "\n",
    "keras = tf.keras\n",
    "\n",
    "IMG_SHAPE = (img_height, img_width, 3)\n",
    "\n",
    "base_model = tf.keras.applications.inception_v3.InceptionV3(input_shape=IMG_SHAPE, include_top=False, \n",
    "                                                      weights='imagenet', \n",
    "                                                      pooling='avg')\n"
   ]
  },
  {
   "cell_type": "code",
   "execution_count": 106,
   "metadata": {},
   "outputs": [],
   "source": [
    "def plot_roc(labels, prediction_scores):\n",
    "    fpr, tpr, _ = metrics.roc_curve(labels, prediction_scores, pos_label=1)\n",
    "    auc = metrics.roc_auc_score(labels, prediction_scores)\n",
    "    legend_string = 'AUC = {:0.3f}'.format(auc)\n",
    "   \n",
    "    plt.plot([0,1],[0,1],'--', color='gray', label='Chance')\n",
    "    plt.plot(fpr, tpr, label=legend_string)\n",
    "    plt.xlabel('False Positive Rate')\n",
    "    plt.ylabel('True Positive Rate')\n",
    "    plt.grid('on')\n",
    "    plt.axis('square')\n",
    "    plt.legend()\n",
    "    plt.tight_layout()\n",
    "    \n",
    "def load_data(dir_data, dir_labels, training=True):\n",
    "    ''' Load each of the image files into memory \n",
    "\n",
    "    While this is feasible with a smaller dataset, for larger datasets,\n",
    "    not all the images would be able to be loaded into memory\n",
    "\n",
    "    When training=True, the labels are also loaded\n",
    "    '''\n",
    "    labels_pd = pd.read_csv(dir_labels)\n",
    "    ids       = labels_pd.id.values\n",
    "    data      = []\n",
    "    for identifier in ids:\n",
    "        fname     = dir_data + identifier.astype(str) + '.tif'\n",
    "        image     = mpl.image.imread(fname)\n",
    "        data.append(image)\n",
    "    data = np.array(data) # Convert to Numpy array\n",
    "    if training:\n",
    "        labels = labels_pd.label.values\n",
    "        return data, labels\n",
    "    else:\n",
    "        return data, ids\n",
    "    \n",
    "def cv_performance_assessment(X,y,k,clf):\n",
    "    '''Cross validated performance assessment\n",
    "    \n",
    "    X   = training data\n",
    "    y   = training labels\n",
    "    k   = number of folds for cross validation\n",
    "    clf = classifier to use\n",
    "    \n",
    "    Divide the training data into k folds of training and validation data. \n",
    "    For each fold the classifier will be trained on the training data and\n",
    "    tested on the validation data. The classifier prediction scores are \n",
    "    aggregated and output\n",
    "    '''\n",
    "    # Establish the k folds\n",
    "    prediction_scores = np.empty(y.shape[0],dtype='object')\n",
    "    kf = StratifiedKFold(n_splits=k, shuffle=True)\n",
    "    for train_index, val_index in kf.split(X, y):\n",
    "        # Extract the training and validation data for this fold\n",
    "        X_train, X_val   = X[train_index], X[val_index]\n",
    "        y_train          = y[train_index]\n",
    "        \n",
    "        # Train the classifier\n",
    "        X_train_features = X_train\n",
    "        clf              = clf.fit(X_train_features,y_train)\n",
    "        \n",
    "        # Test the classifier on the validation data for this fold\n",
    "        X_val_features   = X_val\n",
    "        cpred            = clf.predict_proba(X_val_features)\n",
    "        \n",
    "        # Save the predictions for this fold\n",
    "        prediction_scores[val_index] = cpred[:,1]\n",
    "    return prediction_scores"
   ]
  },
  {
   "cell_type": "code",
   "execution_count": 107,
   "metadata": {},
   "outputs": [],
   "source": [
    "# Get image data\n",
    "train_data_dir = './data/training'\n",
    "test_data_dir = './data/testing'\n",
    "train_datagen = ImageDataGenerator(rescale = 1./255)\n",
    "test_datagen = ImageDataGenerator(rescale = 1./255)"
   ]
  },
  {
   "cell_type": "code",
   "execution_count": 90,
   "metadata": {},
   "outputs": [],
   "source": [
    "# Run this\n",
    "import numpy as np\n",
    "import matplotlib.pyplot as plt\n",
    "import matplotlib as mpl\n",
    "import pandas as pd\n",
    "from sklearn.model_selection import StratifiedKFold\n",
    "from sklearn.neighbors import KNeighborsClassifier\n",
    "import sklearn.metrics as metrics\n",
    "\n",
    "dir_train_images  = './data/training/'\n",
    "dir_test_images   = './data/testing/'\n",
    "dir_train_labels  = './data/labels_training.csv'\n",
    "dir_test_ids      = './data/sample_submission.csv'\n",
    "\n",
    "labels_pd = pd.read_csv(dir_train_labels)\n",
    "labels_0_sampled = labels_pd[labels_pd[\"label\"] == 0].sample(n = 505)\n",
    "labels_sampled = labels_0_sampled.append(labels_pd[labels_pd[\"label\"] == 1])\n",
    "ids       = labels_sampled.id.values\n",
    "data      = []\n",
    "for identifier in ids:\n",
    "    fname     = dir_train_images + identifier.astype(str) + '.tif'\n",
    "    image     = mpl.image.imread(fname)\n",
    "    data.append(image)\n",
    "data = np.array(data) # Convert to Numpy array\n",
    "\n",
    "\n",
    "X = data/1500\n",
    "y = labels_sampled.label.values"
   ]
  },
  {
   "cell_type": "code",
   "execution_count": 108,
   "metadata": {},
   "outputs": [
    {
     "name": "stdout",
     "output_type": "stream",
     "text": [
      "Found 1500 validated image filenames belonging to 2 classes.\n",
      "Found 0 validated image filenames belonging to 2 classes.\n"
     ]
    }
   ],
   "source": [
    "# Generate image label dataframe\n",
    "# Dont run this\n",
    "traindf = pd.read_csv(\"./data/labels_training.csv\",dtype=str)\n",
    "def append_ext(fn):\n",
    "    return fn+\".tif\"\n",
    "traindf[\"id\"]=traindf[\"id\"].apply(append_ext)\n",
    "traindf = traindf.sample(frac=1)\n",
    "\n",
    "train_generator = train_datagen.flow_from_dataframe( \n",
    "    dataframe=traindf,\n",
    "    directory=train_data_dir, \n",
    "    x_col=\"id\",\n",
    "    y_col=\"label\",\n",
    "    seed=0,\n",
    "    batch_size = batch_size,\n",
    "    target_size=(img_height, img_width),\n",
    "    shuffle=False,\n",
    "    class_mode='binary',\n",
    "    subset='training')\n",
    "\n",
    "validation_generator = train_datagen.flow_from_dataframe( \n",
    "    dataframe=traindf,\n",
    "    directory=train_data_dir, \n",
    "    x_col=\"id\",\n",
    "    y_col=\"label\",\n",
    "    seed=0,\n",
    "    target_size=(img_height, img_width),\n",
    "    class_mode='binary',\n",
    "    subset='validation')"
   ]
  },
  {
   "cell_type": "markdown",
   "metadata": {},
   "source": [
    "## Try extracting features to do SVM ##"
   ]
  },
  {
   "cell_type": "code",
   "execution_count": 46,
   "metadata": {},
   "outputs": [],
   "source": [
    "training_features = []\n",
    "for i in range(1500):\n",
    "    training_features.append(np.array(base_model(train_generator.next())).ravel())"
   ]
  },
  {
   "cell_type": "code",
   "execution_count": 47,
   "metadata": {},
   "outputs": [],
   "source": [
    "np.savetxt(\"training_features_InceptionV3.csv\", training_features, delimiter=\",\")"
   ]
  },
  {
   "cell_type": "code",
   "execution_count": 55,
   "metadata": {},
   "outputs": [
    {
     "name": "stdout",
     "output_type": "stream",
     "text": [
      "0.970727896910294\n",
      "              precision    recall  f1-score   support\n",
      "\n",
      "           0       0.91      0.96      0.93       995\n",
      "           1       0.91      0.81      0.86       505\n",
      "\n",
      "    accuracy                           0.91      1500\n",
      "   macro avg       0.91      0.89      0.90      1500\n",
      "weighted avg       0.91      0.91      0.91      1500\n",
      "\n"
     ]
    }
   ],
   "source": [
    "from sklearn import svm\n",
    "from sklearn.metrics import classification_report\n",
    "labels = train_generator.classes\n",
    "clf = svm.SVC(kernel='rbf', degree = 3, probability=True, C=0.1, gamma='scale')\n",
    "clf.fit(training_features, labels)\n",
    "\n",
    "# Primary evaluation\n",
    "score = clf.predict_proba(training_features)\n",
    "auc = metrics.roc_auc_score(labels, score[:,1])\n",
    "print(auc)\n",
    "print (classification_report(labels, score[:,1]>0.5))"
   ]
  },
  {
   "cell_type": "code",
   "execution_count": 99,
   "metadata": {},
   "outputs": [
    {
     "data": {
      "image/png": "[encoded data removed]",
      "text/plain": [
       "<Figure size 432x288 with 1 Axes>"
      ]
     },
     "metadata": {
      "needs_background": "light"
     },
     "output_type": "display_data"
    }
   ],
   "source": [
    "clf = svm.SVC(kernel='rbf', probability=True, C=1, gamma = 'scale')\n",
    "# Perform cross validated performance assessment\n",
    "prediction_scores = cv_performance_assessment(np.array(training_features),np.array(labels),5,clf)\n",
    "\n",
    "# Compute and plot the ROC curves\n",
    "plot_roc(labels, prediction_scores)"
   ]
  },
  {
   "cell_type": "code",
   "execution_count": 93,
   "metadata": {},
   "outputs": [
    {
     "name": "stdout",
     "output_type": "stream",
     "text": [
      "Found 558 images belonging to 1 classes.\n"
     ]
    }
   ],
   "source": [
    "test_generator = test_datagen.flow_from_directory(\n",
    "    directory=test_data_dir,\n",
    "    target_size=(img_width, img_height),\n",
    "    color_mode=\"rgb\",\n",
    "    class_mode=None,\n",
    "    shuffle=False,\n",
    "    seed=42,\n",
    "    batch_size=1\n",
    ")\n",
    "testing_features = []\n",
    "for i in range(558):\n",
    "    testing_features.append(np.array(base_model(test_generator.next())).ravel())\n"
   ]
  },
  {
   "cell_type": "code",
   "execution_count": 100,
   "metadata": {},
   "outputs": [],
   "source": [
    "clf = svm.SVC(kernel='rbf', probability=True, C=1, gamma = 'scale')\n",
    "clf.fit(training_features, labels)\n",
    "\n",
    "score = clf.predict_proba(testing_features)\n",
    "dir_test_ids      = './data/sample_submission.csv'\n",
    "dir_test_images   = './data/testing/'\n",
    "test_data, ids = load_data(dir_test_images, dir_test_ids, training=False)\n",
    "# Save the predictions to a CSV file for upload to Kaggle\n",
    "submission_file = pd.DataFrame({'id':    ids,\n",
    "                                   'score':  score[:,1]})\n",
    "submission_file.to_csv('Inception_SVM2.csv',\n",
    "                           columns=['id','score'],\n",
    "                           index=False)"
   ]
  },
  {
   "cell_type": "code",
   "execution_count": 102,
   "metadata": {},
   "outputs": [
    {
     "data": {
      "text/plain": [
       "array([[1.        , 0.90536866],\n",
       "       [0.90536866, 1.        ]])"
      ]
     },
     "execution_count": 102,
     "metadata": {},
     "output_type": "execute_result"
    }
   ],
   "source": [
    "peer = pd.read_csv('submission_PCA_SVM_3C.csv')\n",
    "peer = pd.read_csv('Inception_SVM.csv')\n",
    "np.corrcoef(score[:,1],np.array(peer.score))"
   ]
  },
  {
   "cell_type": "markdown",
   "metadata": {},
   "source": [
    "## Transfer learning ##"
   ]
  },
  {
   "cell_type": "code",
   "execution_count": 212,
   "metadata": {},
   "outputs": [],
   "source": [
    "# Use transfer learning for feature extractor\n",
    "base_model.trainable = False\n",
    "prediction_layer = tf.keras.layers.Dense(2, activation = 'softmax', kernel_initializer='glorot_uniform')"
   ]
  },
  {
   "cell_type": "code",
   "execution_count": 214,
   "metadata": {},
   "outputs": [],
   "source": [
    "model = tf.keras.Sequential([\n",
    "    base_model,\n",
    "    prediction_layer\n",
    "])"
   ]
  },
  {
   "cell_type": "code",
   "execution_count": 246,
   "metadata": {},
   "outputs": [],
   "source": [
    "model.compile(optimizer=keras.optimizers.Adam(learning_rate=0.005, beta_1=0.9, beta_2=0.999, amsgrad=False),\n",
    "              loss=keras.losses.sparse_categorical_crossentropy,\n",
    "              metrics=['accuracy'])"
   ]
  },
  {
   "cell_type": "code",
   "execution_count": 224,
   "metadata": {},
   "outputs": [],
   "source": [
    "callbackobj = tf.compat.v1.keras.callbacks.TensorBoard(log_dir='./Graph', histogram_freq=0,  \n",
    "          write_graph=True, write_images=True, write_grads = True, update_freq = 1)"
   ]
  },
  {
   "cell_type": "code",
   "execution_count": 247,
   "metadata": {
    "scrolled": false
   },
   "outputs": [
    {
     "name": "stdout",
     "output_type": "stream",
     "text": [
      "Epoch 1/20\n",
      "24/24 [==============================] - 45s 2s/step - loss: 0.6503 - accuracy: 0.7833\n",
      "Epoch 2/20\n",
      "24/24 [==============================] - 46s 2s/step - loss: 0.5809 - accuracy: 0.8107\n",
      "Epoch 3/20\n",
      "24/24 [==============================] - 45s 2s/step - loss: 0.5106 - accuracy: 0.8367\n",
      "Epoch 4/20\n",
      "24/24 [==============================] - 45s 2s/step - loss: 0.5612 - accuracy: 0.8313\n",
      "Epoch 5/20\n",
      "24/24 [==============================] - 45s 2s/step - loss: 0.4930 - accuracy: 0.8540\n",
      "Epoch 6/20\n",
      "24/24 [==============================] - 45s 2s/step - loss: 0.4751 - accuracy: 0.8580\n",
      "Epoch 7/20\n",
      "24/24 [==============================] - 45s 2s/step - loss: 0.4498 - accuracy: 0.8780\n",
      "Epoch 8/20\n",
      "24/24 [==============================] - 45s 2s/step - loss: 0.4785 - accuracy: 0.8573\n",
      "Epoch 9/20\n",
      "24/24 [==============================] - 46s 2s/step - loss: 0.4425 - accuracy: 0.8667\n",
      "Epoch 10/20\n",
      "24/24 [==============================] - 45s 2s/step - loss: 0.4471 - accuracy: 0.8687\n",
      "Epoch 11/20\n",
      "24/24 [==============================] - 45s 2s/step - loss: 0.4543 - accuracy: 0.8573\n",
      "Epoch 12/20\n",
      "24/24 [==============================] - 45s 2s/step - loss: 0.4212 - accuracy: 0.8787\n",
      "Epoch 13/20\n",
      "24/24 [==============================] - 45s 2s/step - loss: 0.3881 - accuracy: 0.9007\n",
      "Epoch 14/20\n",
      "24/24 [==============================] - 46s 2s/step - loss: 0.3704 - accuracy: 0.8967\n",
      "Epoch 15/20\n",
      "24/24 [==============================] - 46s 2s/step - loss: 0.3536 - accuracy: 0.9020\n",
      "Epoch 16/20\n",
      "24/24 [==============================] - 45s 2s/step - loss: 0.3454 - accuracy: 0.9073\n",
      "Epoch 17/20\n",
      "24/24 [==============================] - 45s 2s/step - loss: 0.3480 - accuracy: 0.9133\n",
      "Epoch 18/20\n",
      "24/24 [==============================] - 45s 2s/step - loss: 0.3565 - accuracy: 0.8973\n",
      "Epoch 19/20\n",
      "24/24 [==============================] - 45s 2s/step - loss: 0.3624 - accuracy: 0.8973\n",
      "Epoch 20/20\n",
      "24/24 [==============================] - 45s 2s/step - loss: 0.3200 - accuracy: 0.9173\n"
     ]
    },
    {
     "data": {
      "text/plain": [
       "<tensorflow.python.keras.callbacks.History at 0x1c4b32610>"
      ]
     },
     "execution_count": 247,
     "metadata": {},
     "output_type": "execute_result"
    }
   ],
   "source": [
    "model.fit_generator(train_generator, epochs=20, class_weight={0:1., 1:3.5})"
   ]
  },
  {
   "cell_type": "code",
   "execution_count": 193,
   "metadata": {},
   "outputs": [],
   "source": [
    "keras.backend.clear_session()"
   ]
  },
  {
   "cell_type": "code",
   "execution_count": 248,
   "metadata": {},
   "outputs": [
    {
     "name": "stdout",
     "output_type": "stream",
     "text": [
      "0.6715786855067416\n",
      "              precision    recall  f1-score   support\n",
      "\n",
      "           0       0.74      0.76      0.75       995\n",
      "           1       0.50      0.47      0.48       505\n",
      "\n",
      "    accuracy                           0.66      1500\n",
      "   macro avg       0.62      0.62      0.62      1500\n",
      "weighted avg       0.66      0.66      0.66      1500\n",
      "\n"
     ]
    }
   ],
   "source": [
    "#score = model.predict_generator(validation_generator)\n",
    "#labels = validation_generator.classes\n",
    "\n",
    "\n",
    "score = model.predict(train_generator)\n",
    "labels = train_generator.classes\n",
    "#plot_roc(labels, score.ravel())\n",
    "auc = metrics.roc_auc_score(labels, score[:,1])\n",
    "print(auc)\n",
    "print (classification_report(labels, score[:,1]>=0.5))"
   ]
  },
  {
   "cell_type": "code",
   "execution_count": 201,
   "metadata": {},
   "outputs": [
    {
     "name": "stdout",
     "output_type": "stream",
     "text": [
      "Model: \"sequential_5\"\n",
      "_________________________________________________________________\n",
      "Layer (type)                 Output Shape              Param #   \n",
      "=================================================================\n",
      "inception_v3 (Model)         (None, 2048)              21802784  \n",
      "_________________________________________________________________\n",
      "dense_4 (Dense)              (None, 2)                 4098      \n",
      "=================================================================\n",
      "Total params: 21,806,882\n",
      "Trainable params: 4,098\n",
      "Non-trainable params: 21,802,784\n",
      "_________________________________________________________________\n"
     ]
    }
   ],
   "source": [
    "model.summary()"
   ]
  },
  {
   "cell_type": "code",
   "execution_count": 249,
   "metadata": {},
   "outputs": [
    {
     "data": {
      "text/plain": [
       "array([[-0.26102132,  0.23642308],\n",
       "       [ 0.09219537, -0.04005945],\n",
       "       [ 0.1717199 , -0.13376535],\n",
       "       ...,\n",
       "       [ 0.01937469,  0.0455596 ],\n",
       "       [ 0.14852433, -0.194773  ],\n",
       "       [-0.2433232 ,  0.1743991 ]], dtype=float32)"
      ]
     },
     "execution_count": 249,
     "metadata": {},
     "output_type": "execute_result"
    }
   ],
   "source": [
    "(model.get_weights())[-2]"
   ]
  },
  {
   "cell_type": "code",
   "execution_count": 256,
   "metadata": {},
   "outputs": [
    {
     "data": {
      "text/plain": [
       "(array([875.,  54.,  41.,  38.,  20.,  31.,  22.,  29.,  56., 334.]),\n",
       " array([2.0563792e-16, 1.0000000e-01, 2.0000000e-01, 3.0000001e-01,\n",
       "        4.0000001e-01, 5.0000000e-01, 6.0000002e-01, 6.9999999e-01,\n",
       "        8.0000001e-01, 8.9999998e-01, 1.0000000e+00], dtype=float32),\n",
       " <a list of 10 Patch objects>)"
      ]
     },
     "execution_count": 256,
     "metadata": {},
     "output_type": "execute_result"
    },
    {
     "data": {
      "image/png": "[encoded data removed]",
      "text/plain": [
       "<Figure size 432x288 with 1 Axes>"
      ]
     },
     "metadata": {
      "needs_background": "light"
     },
     "output_type": "display_data"
    }
   ],
   "source": [
    "plt.hist(score[:,1])"
   ]
  },
  {
   "cell_type": "code",
   "execution_count": null,
   "metadata": {},
   "outputs": [],
   "source": []
  }
 ],
 "metadata": {
  "kernelspec": {
   "display_name": "Python 3",
   "language": "python",
   "name": "python3"
  },
  "language_info": {
   "codemirror_mode": {
    "name": "ipython",
    "version": 3
   },
   "file_extension": ".py",
   "mimetype": "text/x-python",
   "name": "python",
   "nbconvert_exporter": "python",
   "pygments_lexer": "ipython3",
   "version": "3.7.5"
  }
 },
 "nbformat": 4,
 "nbformat_minor": 2
}
