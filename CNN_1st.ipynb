{
 "cells": [
  {
   "cell_type": "code",
   "execution_count": 9,
   "metadata": {},
   "outputs": [],
   "source": [
    "from keras.models import Sequential\n",
    "from keras.layers import Convolution2D\n",
    "from keras.layers import MaxPooling2D\n",
    "from keras.layers import Flatten\n",
    "from keras.layers import Dense\n",
    "from keras.preprocessing.image import ImageDataGenerator \n",
    "import numpy as np\n",
    "import pandas as pd"
   ]
  },
  {
   "cell_type": "code",
   "execution_count": 3,
   "metadata": {},
   "outputs": [],
   "source": [
    "# Parameters\n",
    "img_width = 101\n",
    "img_height = 101"
   ]
  },
  {
   "cell_type": "code",
   "execution_count": 4,
   "metadata": {},
   "outputs": [
    {
     "name": "stderr",
     "output_type": "stream",
     "text": [
      "/usr/local/Cellar/ipython/7.8.0/libexec/vendor/lib/python3.7/site-packages/ipykernel_launcher.py:8: UserWarning: Update your `Conv2D` call to the Keras 2 API: `Conv2D(32, (3, 3), activation=\"relu\")`\n",
      "  \n"
     ]
    }
   ],
   "source": [
    "model = Sequential()\n",
    "# First layer\n",
    "model.add(Convolution2D(filters = 32, kernel_size = (3, 3), \n",
    "                        input_shape = (img_width, img_height, 3), activation = 'relu'))\n",
    "model.add(MaxPooling2D(pool_size = (2, 2)))\n",
    "\n",
    "# Second layer\n",
    "model.add(Convolution2D(32, 3, 3, activation = 'relu'))\n",
    "model.add(MaxPooling2D(pool_size = (2, 2)))\n",
    "\n",
    "# Flatten\n",
    "model.add(Flatten())\n",
    "\n",
    "# FC\n",
    "model.add(Dense(units = 10, activation = 'relu'))\n",
    "\n",
    "# Output \n",
    "model.add(Dense(units = 1, activation = 'sigmoid'))"
   ]
  },
  {
   "cell_type": "code",
   "execution_count": 6,
   "metadata": {},
   "outputs": [],
   "source": [
    "# Setup optimizer and Compile model\n",
    "model.compile(optimizer = 'adam', loss = 'binary_crossentropy', metrics = ['accuracy'])"
   ]
  },
  {
   "cell_type": "code",
   "execution_count": 14,
   "metadata": {},
   "outputs": [
    {
     "name": "stdout",
     "output_type": "stream",
     "text": [
      "Found 0 images belonging to 0 classes.\n",
      "Found 0 images belonging to 0 classes.\n"
     ]
    }
   ],
   "source": [
    "# Get image data\n",
    "train_data_dir = './data/training'\n",
    "train_datagen = ImageDataGenerator(rescale = 1./255, shear_range = 0.1, zoom_range = 0.2, horizontal_flip = True)\n",
    "test_datagen = ImageDataGenerator(rescale = 1./255)\n",
    "\n",
    "training_set = train_datagen.flow_from_directory(train_data_dir, \n",
    "                                                 target_size = (img_width, img_height), \n",
    "                                                 batch_size = 32, class_mode = 'binary')\n",
    "\n",
    "test_set = test_datagen.flow_from_directory('./data/testing', target_size = (img_width, img_height), \n",
    "                                            batch_size = 32, class_mode = 'binary')"
   ]
  },
  {
   "cell_type": "code",
   "execution_count": 16,
   "metadata": {},
   "outputs": [
    {
     "name": "stdout",
     "output_type": "stream",
     "text": [
      "Found 1500 validated image filenames belonging to 2 classes.\n"
     ]
    }
   ],
   "source": [
    "# Generate image label dataframe\n",
    "traindf = pd.read_csv(\"./data/labels_training.csv\",dtype=str)\n",
    "def append_ext(fn):\n",
    "    return fn+\".tif\"\n",
    "traindf[\"id\"]=traindf[\"id\"].apply(append_ext)\n",
    "\n",
    "train_generator = train_datagen.flow_from_dataframe( \n",
    "    dataframe=traindf,\n",
    "    directory=train_data_dir, \n",
    "    x_col=\"id\",\n",
    "    y_col=\"label\",\n",
    "    seed=42,\n",
    "    batch_size = 32,\n",
    "    target_size=(img_width, img_height),\n",
    "    class_mode='binary')"
   ]
  },
  {
   "cell_type": "code",
   "execution_count": 21,
   "metadata": {},
   "outputs": [
    {
     "name": "stderr",
     "output_type": "stream",
     "text": [
      "/usr/local/Cellar/ipython/7.8.0/libexec/vendor/lib/python3.7/site-packages/ipykernel_launcher.py:2: UserWarning: The semantics of the Keras 2 argument `steps_per_epoch` is not the same as the Keras 1 argument `samples_per_epoch`. `steps_per_epoch` is the number of batches to draw from the generator at each epoch. Basically steps_per_epoch = samples_per_epoch/batch_size. Similarly `nb_val_samples`->`validation_steps` and `val_samples`->`steps` arguments have changed. Update your method calls accordingly.\n",
      "  \n",
      "/usr/local/Cellar/ipython/7.8.0/libexec/vendor/lib/python3.7/site-packages/ipykernel_launcher.py:2: UserWarning: Update your `fit_generator` call to the Keras 2 API: `fit_generator(<keras.pre..., steps_per_epoch=46, epochs=15)`\n",
      "  \n"
     ]
    },
    {
     "name": "stdout",
     "output_type": "stream",
     "text": [
      "Epoch 1/15\n",
      "46/46 [==============================] - 6s 130ms/step - loss: 0.6558 - accuracy: 0.6492\n",
      "Epoch 2/15\n",
      "46/46 [==============================] - 5s 105ms/step - loss: 0.6444 - accuracy: 0.6614\n",
      "Epoch 3/15\n",
      "46/46 [==============================] - 5s 109ms/step - loss: 0.6194 - accuracy: 0.6683\n",
      "Epoch 4/15\n",
      "46/46 [==============================] - 5s 108ms/step - loss: 0.6098 - accuracy: 0.6792\n",
      "Epoch 5/15\n",
      "46/46 [==============================] - 5s 108ms/step - loss: 0.6024 - accuracy: 0.6873\n",
      "Epoch 6/15\n",
      "46/46 [==============================] - 5s 110ms/step - loss: 0.5906 - accuracy: 0.6935\n",
      "Epoch 7/15\n",
      "46/46 [==============================] - 5s 113ms/step - loss: 0.5912 - accuracy: 0.6962\n",
      "Epoch 8/15\n",
      "46/46 [==============================] - 5s 110ms/step - loss: 0.5362 - accuracy: 0.7480\n",
      "Epoch 9/15\n",
      "46/46 [==============================] - 5s 111ms/step - loss: 0.5541 - accuracy: 0.7187\n",
      "Epoch 10/15\n",
      "46/46 [==============================] - 5s 110ms/step - loss: 0.5233 - accuracy: 0.7480\n",
      "Epoch 11/15\n",
      "46/46 [==============================] - 5s 111ms/step - loss: 0.5226 - accuracy: 0.7568\n",
      "Epoch 12/15\n",
      "46/46 [==============================] - 5s 111ms/step - loss: 0.4895 - accuracy: 0.7670\n",
      "Epoch 13/15\n",
      "46/46 [==============================] - 5s 113ms/step - loss: 0.4673 - accuracy: 0.7841\n",
      "Epoch 14/15\n",
      "46/46 [==============================] - 5s 111ms/step - loss: 0.4808 - accuracy: 0.7731\n",
      "Epoch 15/15\n",
      "46/46 [==============================] - 5s 112ms/step - loss: 0.4661 - accuracy: 0.7847\n"
     ]
    },
    {
     "data": {
      "text/plain": [
       "<keras.callbacks.callbacks.History at 0x144b47ad0>"
      ]
     },
     "execution_count": 21,
     "metadata": {},
     "output_type": "execute_result"
    }
   ],
   "source": [
    "# Generate fit generator\n",
    "model.fit_generator(train_generator, samples_per_epoch = 1500, nb_epoch = 15)"
   ]
  },
  {
   "cell_type": "code",
   "execution_count": null,
   "metadata": {},
   "outputs": [],
   "source": []
  }
 ],
 "metadata": {
  "kernelspec": {
   "display_name": "Python 3",
   "language": "python",
   "name": "python3"
  },
  "language_info": {
   "codemirror_mode": {
    "name": "ipython",
    "version": 3
   },
   "file_extension": ".py",
   "mimetype": "text/x-python",
   "name": "python",
   "nbconvert_exporter": "python",
   "pygments_lexer": "ipython3",
   "version": "3.7.5"
  }
 },
 "nbformat": 4,
 "nbformat_minor": 2
}
